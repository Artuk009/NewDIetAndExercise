{
 "cells": [
  {
   "cell_type": "markdown",
   "metadata": {},
   "source": [
    "# Diet Data Editor\n",
    "Author: Brent Artuch <br>\n",
    "Date: 2023-06-04"
   ]
  },
  {
   "cell_type": "markdown",
   "source": [
    "## Introduction"
   ],
   "metadata": {
    "collapsed": false
   }
  },
  {
   "cell_type": "markdown",
   "source": [
    "This notebook depicts the process of adding new food entries to my SQLite database and then takes you\n",
    "through the macronutrient conversion calculations. After the caloric intake based on macro nutrient for\n",
    "the day has been calculated, we then proceed to a few visualizations for those calculations. <br>\n",
    "\n",
    "This document utilizes an array of Pandas processing techniques such as filtering via boolean masking,\n",
    "using descriptive methods to illustrate the shape of the data set, and creating visualizations using the\n",
    "data in the dataframe."
   ],
   "metadata": {
    "collapsed": false
   }
  },
  {
   "cell_type": "markdown",
   "metadata": {},
   "source": [
    "# SQL DATABASE CONSTRUCTION IN PROGRESS!!\n",
    "## Step: 1 Imports\n",
    "### Import packages"
   ]
  },
  {
   "cell_type": "code",
   "execution_count": 1,
   "metadata": {
    "collapsed": true,
    "ExecuteTime": {
     "end_time": "2023-07-01T02:19:13.110178Z",
     "start_time": "2023-07-01T02:19:13.107828Z"
    }
   },
   "outputs": [],
   "source": [
    "import sqlite3\n",
    "import pandas as pd\n",
    "import seaborn as sns"
   ]
  },
  {
   "cell_type": "markdown",
   "source": [
    "### Load the dataset\n",
    "This dataset is pulled from a SQLite database that stores all foods I have consumed by `month_YYYY`. We will\n",
    "load the current month using a simple query."
   ],
   "metadata": {
    "collapsed": false
   }
  },
  {
   "cell_type": "code",
   "execution_count": 2,
   "outputs": [
    {
     "data": {
      "text/plain": "          date          meal           food_name  servings  carbs  fats  \\\nid                                                                        \n73  2023-06-29         Lunch     Wendys Jr Fries       2.0     28     9   \n74  2023-06-29        Dinner                Rice       1.0     45     1   \n75  2023-06-29        Dinner        Spicy Garlic       2.0      3     6   \n76  2023-06-29        Dinner      Protein Powder       2.0      3     2   \n77  2023-06-29  Post-Workout  Ice Cream Sandwich       1.0     26     5   \n78  2023-06-29  Post-Workout        Fruit Snacks       1.0     17     0   \n79  2023-06-30     Breakfast             Oatmeal       2.0     32     3   \n80  2023-06-30     Breakfast          Cereal Bar       2.0     24     3   \n81  2023-06-30     Breakfast      Protein Powder       2.0      3     2   \n82  2023-06-30         Lunch     Quarter Pounder       2.0     42    26   \n\n    proteins  calories  \nid                      \n73         3       210  \n74         4       206  \n75         1        70  \n76        24       120  \n77         2       160  \n78         1        70  \n79         9       160  \n80         1       130  \n81        24       120  \n82        30       520  ",
      "text/html": "<div>\n<style scoped>\n    .dataframe tbody tr th:only-of-type {\n        vertical-align: middle;\n    }\n\n    .dataframe tbody tr th {\n        vertical-align: top;\n    }\n\n    .dataframe thead th {\n        text-align: right;\n    }\n</style>\n<table border=\"1\" class=\"dataframe\">\n  <thead>\n    <tr style=\"text-align: right;\">\n      <th></th>\n      <th>date</th>\n      <th>meal</th>\n      <th>food_name</th>\n      <th>servings</th>\n      <th>carbs</th>\n      <th>fats</th>\n      <th>proteins</th>\n      <th>calories</th>\n    </tr>\n    <tr>\n      <th>id</th>\n      <th></th>\n      <th></th>\n      <th></th>\n      <th></th>\n      <th></th>\n      <th></th>\n      <th></th>\n      <th></th>\n    </tr>\n  </thead>\n  <tbody>\n    <tr>\n      <th>73</th>\n      <td>2023-06-29</td>\n      <td>Lunch</td>\n      <td>Wendys Jr Fries</td>\n      <td>2.0</td>\n      <td>28</td>\n      <td>9</td>\n      <td>3</td>\n      <td>210</td>\n    </tr>\n    <tr>\n      <th>74</th>\n      <td>2023-06-29</td>\n      <td>Dinner</td>\n      <td>Rice</td>\n      <td>1.0</td>\n      <td>45</td>\n      <td>1</td>\n      <td>4</td>\n      <td>206</td>\n    </tr>\n    <tr>\n      <th>75</th>\n      <td>2023-06-29</td>\n      <td>Dinner</td>\n      <td>Spicy Garlic</td>\n      <td>2.0</td>\n      <td>3</td>\n      <td>6</td>\n      <td>1</td>\n      <td>70</td>\n    </tr>\n    <tr>\n      <th>76</th>\n      <td>2023-06-29</td>\n      <td>Dinner</td>\n      <td>Protein Powder</td>\n      <td>2.0</td>\n      <td>3</td>\n      <td>2</td>\n      <td>24</td>\n      <td>120</td>\n    </tr>\n    <tr>\n      <th>77</th>\n      <td>2023-06-29</td>\n      <td>Post-Workout</td>\n      <td>Ice Cream Sandwich</td>\n      <td>1.0</td>\n      <td>26</td>\n      <td>5</td>\n      <td>2</td>\n      <td>160</td>\n    </tr>\n    <tr>\n      <th>78</th>\n      <td>2023-06-29</td>\n      <td>Post-Workout</td>\n      <td>Fruit Snacks</td>\n      <td>1.0</td>\n      <td>17</td>\n      <td>0</td>\n      <td>1</td>\n      <td>70</td>\n    </tr>\n    <tr>\n      <th>79</th>\n      <td>2023-06-30</td>\n      <td>Breakfast</td>\n      <td>Oatmeal</td>\n      <td>2.0</td>\n      <td>32</td>\n      <td>3</td>\n      <td>9</td>\n      <td>160</td>\n    </tr>\n    <tr>\n      <th>80</th>\n      <td>2023-06-30</td>\n      <td>Breakfast</td>\n      <td>Cereal Bar</td>\n      <td>2.0</td>\n      <td>24</td>\n      <td>3</td>\n      <td>1</td>\n      <td>130</td>\n    </tr>\n    <tr>\n      <th>81</th>\n      <td>2023-06-30</td>\n      <td>Breakfast</td>\n      <td>Protein Powder</td>\n      <td>2.0</td>\n      <td>3</td>\n      <td>2</td>\n      <td>24</td>\n      <td>120</td>\n    </tr>\n    <tr>\n      <th>82</th>\n      <td>2023-06-30</td>\n      <td>Lunch</td>\n      <td>Quarter Pounder</td>\n      <td>2.0</td>\n      <td>42</td>\n      <td>26</td>\n      <td>30</td>\n      <td>520</td>\n    </tr>\n  </tbody>\n</table>\n</div>"
     },
     "execution_count": 2,
     "metadata": {},
     "output_type": "execute_result"
    }
   ],
   "source": [
    "sql_connection = sqlite3.connect('diet.sqlite')\n",
    "# Import the desired table and set the index.\n",
    "current_foods = pd.read_sql(\n",
    "    '''\n",
    "    SELECT f.id, d.date, m.meal, f.food_name, f.servings, f.carbs, f.fats, f.proteins, f.calories\n",
    "    FROM meals m\n",
    "    INNER JOIN foods f on f.meal_id = m.id\n",
    "    INNER JOIN dates_2023 d on d.id = m.date_id\n",
    "    ORDER BY f.id\n",
    "    ''',\n",
    "    sql_connection, index_col='id')\n",
    "\n",
    "current_foods.tail(10)"
   ],
   "metadata": {
    "collapsed": false,
    "ExecuteTime": {
     "end_time": "2023-07-01T02:19:16.421390Z",
     "start_time": "2023-07-01T02:19:16.411052Z"
    }
   }
  },
  {
   "cell_type": "markdown",
   "source": [
    "## Step 2: Data Exploration\n",
    "Next we will get a sense of the size and contents of `current_foods`."
   ],
   "metadata": {
    "collapsed": false
   }
  },
  {
   "cell_type": "code",
   "execution_count": 3,
   "outputs": [
    {
     "data": {
      "text/plain": "(82, 8)"
     },
     "execution_count": 3,
     "metadata": {},
     "output_type": "execute_result"
    }
   ],
   "source": [
    "current_foods.shape"
   ],
   "metadata": {
    "collapsed": false,
    "ExecuteTime": {
     "end_time": "2023-07-01T02:19:21.428120Z",
     "start_time": "2023-07-01T02:19:21.418497Z"
    }
   }
  },
  {
   "cell_type": "code",
   "execution_count": 4,
   "outputs": [
    {
     "name": "stdout",
     "output_type": "stream",
     "text": [
      "<class 'pandas.core.frame.DataFrame'>\n",
      "Int64Index: 82 entries, 1 to 82\n",
      "Data columns (total 8 columns):\n",
      " #   Column     Non-Null Count  Dtype  \n",
      "---  ------     --------------  -----  \n",
      " 0   date       82 non-null     object \n",
      " 1   meal       82 non-null     object \n",
      " 2   food_name  82 non-null     object \n",
      " 3   servings   82 non-null     float64\n",
      " 4   carbs      82 non-null     int64  \n",
      " 5   fats       82 non-null     int64  \n",
      " 6   proteins   82 non-null     int64  \n",
      " 7   calories   82 non-null     int64  \n",
      "dtypes: float64(1), int64(4), object(3)\n",
      "memory usage: 5.8+ KB\n"
     ]
    }
   ],
   "source": [
    "current_foods.info()"
   ],
   "metadata": {
    "collapsed": false,
    "ExecuteTime": {
     "end_time": "2023-07-01T02:19:23.696011Z",
     "start_time": "2023-07-01T02:19:23.688359Z"
    }
   }
  },
  {
   "cell_type": "code",
   "execution_count": 5,
   "outputs": [
    {
     "data": {
      "text/plain": "           carbs       fats   proteins    calories\ncount  82.000000  82.000000  82.000000   82.000000\nmean   21.134146   6.475610  10.621951  183.048780\nstd    19.302506   8.032689  13.814146  137.812532\nmin     0.000000   0.000000   0.000000   70.000000\n25%     3.000000   2.000000   1.000000  100.000000\n50%    17.000000   3.000000   4.000000  125.000000\n75%    39.000000   9.000000  24.000000  206.000000\nmax    74.000000  41.000000  88.000000  720.000000",
      "text/html": "<div>\n<style scoped>\n    .dataframe tbody tr th:only-of-type {\n        vertical-align: middle;\n    }\n\n    .dataframe tbody tr th {\n        vertical-align: top;\n    }\n\n    .dataframe thead th {\n        text-align: right;\n    }\n</style>\n<table border=\"1\" class=\"dataframe\">\n  <thead>\n    <tr style=\"text-align: right;\">\n      <th></th>\n      <th>carbs</th>\n      <th>fats</th>\n      <th>proteins</th>\n      <th>calories</th>\n    </tr>\n  </thead>\n  <tbody>\n    <tr>\n      <th>count</th>\n      <td>82.000000</td>\n      <td>82.000000</td>\n      <td>82.000000</td>\n      <td>82.000000</td>\n    </tr>\n    <tr>\n      <th>mean</th>\n      <td>21.134146</td>\n      <td>6.475610</td>\n      <td>10.621951</td>\n      <td>183.048780</td>\n    </tr>\n    <tr>\n      <th>std</th>\n      <td>19.302506</td>\n      <td>8.032689</td>\n      <td>13.814146</td>\n      <td>137.812532</td>\n    </tr>\n    <tr>\n      <th>min</th>\n      <td>0.000000</td>\n      <td>0.000000</td>\n      <td>0.000000</td>\n      <td>70.000000</td>\n    </tr>\n    <tr>\n      <th>25%</th>\n      <td>3.000000</td>\n      <td>2.000000</td>\n      <td>1.000000</td>\n      <td>100.000000</td>\n    </tr>\n    <tr>\n      <th>50%</th>\n      <td>17.000000</td>\n      <td>3.000000</td>\n      <td>4.000000</td>\n      <td>125.000000</td>\n    </tr>\n    <tr>\n      <th>75%</th>\n      <td>39.000000</td>\n      <td>9.000000</td>\n      <td>24.000000</td>\n      <td>206.000000</td>\n    </tr>\n    <tr>\n      <th>max</th>\n      <td>74.000000</td>\n      <td>41.000000</td>\n      <td>88.000000</td>\n      <td>720.000000</td>\n    </tr>\n  </tbody>\n</table>\n</div>"
     },
     "execution_count": 5,
     "metadata": {},
     "output_type": "execute_result"
    }
   ],
   "source": [
    "current_foods[['carbs','fats','proteins','calories']].describe()"
   ],
   "metadata": {
    "collapsed": false,
    "ExecuteTime": {
     "end_time": "2023-07-01T02:19:26.487619Z",
     "start_time": "2023-07-01T02:19:26.484858Z"
    }
   }
  },
  {
   "cell_type": "code",
   "execution_count": 6,
   "outputs": [
    {
     "data": {
      "text/plain": "Protein Powder    18\nRice              10\nSpicy Garlic       9\nFruit Snacks       6\nCereal Bar         5\nName: food_name, dtype: int64"
     },
     "execution_count": 6,
     "metadata": {},
     "output_type": "execute_result"
    }
   ],
   "source": [
    "current_foods['food_name'].value_counts().head()"
   ],
   "metadata": {
    "collapsed": false,
    "ExecuteTime": {
     "end_time": "2023-07-01T02:19:29.091663Z",
     "start_time": "2023-07-01T02:19:29.087284Z"
    }
   }
  },
  {
   "cell_type": "markdown",
   "metadata": {},
   "source": [
    "## Step 3: Update the Dataset\n",
    "### Load the master food list\n",
    "First we will load the names of the foods from the master `food_list` database so that the algorithm\n",
    "can check against the list for whether the food reference exists."
   ]
  },
  {
   "cell_type": "code",
   "execution_count": 7,
   "outputs": [
    {
     "data": {
      "text/plain": "        food_name\n0         Oatmeal\n1  Protein Powder\n2     Coco Powder\n3           Ramen\n4      Cereal Bar",
      "text/html": "<div>\n<style scoped>\n    .dataframe tbody tr th:only-of-type {\n        vertical-align: middle;\n    }\n\n    .dataframe tbody tr th {\n        vertical-align: top;\n    }\n\n    .dataframe thead th {\n        text-align: right;\n    }\n</style>\n<table border=\"1\" class=\"dataframe\">\n  <thead>\n    <tr style=\"text-align: right;\">\n      <th></th>\n      <th>food_name</th>\n    </tr>\n  </thead>\n  <tbody>\n    <tr>\n      <th>0</th>\n      <td>Oatmeal</td>\n    </tr>\n    <tr>\n      <th>1</th>\n      <td>Protein Powder</td>\n    </tr>\n    <tr>\n      <th>2</th>\n      <td>Coco Powder</td>\n    </tr>\n    <tr>\n      <th>3</th>\n      <td>Ramen</td>\n    </tr>\n    <tr>\n      <th>4</th>\n      <td>Cereal Bar</td>\n    </tr>\n  </tbody>\n</table>\n</div>"
     },
     "execution_count": 7,
     "metadata": {},
     "output_type": "execute_result"
    }
   ],
   "source": [
    "# Call the primary food list.\n",
    "food_db = pd.read_sql('SELECT food_name FROM food_list', sql_connection)\n",
    "food_db.head()"
   ],
   "metadata": {
    "collapsed": false,
    "ExecuteTime": {
     "end_time": "2023-07-01T02:19:32.320651Z",
     "start_time": "2023-07-01T02:19:32.311616Z"
    }
   }
  },
  {
   "cell_type": "markdown",
   "source": [
    "### Set the date of the entries"
   ],
   "metadata": {
    "collapsed": false
   }
  },
  {
   "cell_type": "code",
   "execution_count": 8,
   "outputs": [
    {
     "data": {
      "text/plain": "          date\nid            \n4   2023-06-26\n5   2023-06-27\n6   2023-06-28\n7   2023-06-29\n8   2023-06-30",
      "text/html": "<div>\n<style scoped>\n    .dataframe tbody tr th:only-of-type {\n        vertical-align: middle;\n    }\n\n    .dataframe tbody tr th {\n        vertical-align: top;\n    }\n\n    .dataframe thead th {\n        text-align: right;\n    }\n</style>\n<table border=\"1\" class=\"dataframe\">\n  <thead>\n    <tr style=\"text-align: right;\">\n      <th></th>\n      <th>date</th>\n    </tr>\n    <tr>\n      <th>id</th>\n      <th></th>\n    </tr>\n  </thead>\n  <tbody>\n    <tr>\n      <th>4</th>\n      <td>2023-06-26</td>\n    </tr>\n    <tr>\n      <th>5</th>\n      <td>2023-06-27</td>\n    </tr>\n    <tr>\n      <th>6</th>\n      <td>2023-06-28</td>\n    </tr>\n    <tr>\n      <th>7</th>\n      <td>2023-06-29</td>\n    </tr>\n    <tr>\n      <th>8</th>\n      <td>2023-06-30</td>\n    </tr>\n  </tbody>\n</table>\n</div>"
     },
     "execution_count": 8,
     "metadata": {},
     "output_type": "execute_result"
    }
   ],
   "source": [
    "dates_df = pd.read_sql('SELECT * FROM dates_2023', sql_connection, index_col='id')\n",
    "dates_df.tail()"
   ],
   "metadata": {
    "collapsed": false,
    "ExecuteTime": {
     "end_time": "2023-07-01T02:19:35.519651Z",
     "start_time": "2023-07-01T02:19:35.510908Z"
    }
   }
  },
  {
   "cell_type": "code",
   "execution_count": 1,
   "outputs": [
    {
     "data": {
      "text/plain": "'2023-06-30'"
     },
     "execution_count": 1,
     "metadata": {},
     "output_type": "execute_result"
    }
   ],
   "source": [
    "# Get the date to be added to the dates_2023 table\n",
    "import datetime\n",
    "\n",
    "# Autogenerate the year and month\n",
    "year_month = datetime.datetime.now().strftime(\"%Y-%m\")\n",
    "day_of_month = input(\"Enter the day of the month: DD\")\n",
    "date = f\"{year_month}-{day_of_month}\"\n",
    "date"
   ],
   "metadata": {
    "collapsed": false,
    "ExecuteTime": {
     "end_time": "2023-07-01T02:27:29.799474Z",
     "start_time": "2023-07-01T02:27:25.603998Z"
    }
   }
  },
  {
   "cell_type": "code",
   "execution_count": 10,
   "outputs": [
    {
     "data": {
      "text/plain": "          date\nid            \n4   2023-06-26\n5   2023-06-27\n6   2023-06-28\n7   2023-06-29\n8   2023-06-30",
      "text/html": "<div>\n<style scoped>\n    .dataframe tbody tr th:only-of-type {\n        vertical-align: middle;\n    }\n\n    .dataframe tbody tr th {\n        vertical-align: top;\n    }\n\n    .dataframe thead th {\n        text-align: right;\n    }\n</style>\n<table border=\"1\" class=\"dataframe\">\n  <thead>\n    <tr style=\"text-align: right;\">\n      <th></th>\n      <th>date</th>\n    </tr>\n    <tr>\n      <th>id</th>\n      <th></th>\n    </tr>\n  </thead>\n  <tbody>\n    <tr>\n      <th>4</th>\n      <td>2023-06-26</td>\n    </tr>\n    <tr>\n      <th>5</th>\n      <td>2023-06-27</td>\n    </tr>\n    <tr>\n      <th>6</th>\n      <td>2023-06-28</td>\n    </tr>\n    <tr>\n      <th>7</th>\n      <td>2023-06-29</td>\n    </tr>\n    <tr>\n      <th>8</th>\n      <td>2023-06-30</td>\n    </tr>\n  </tbody>\n</table>\n</div>"
     },
     "execution_count": 10,
     "metadata": {},
     "output_type": "execute_result"
    }
   ],
   "source": [
    "# Add date to dates_2023 table\n",
    "dates_df.loc[len(dates_df)+1, 'date'] = date\n",
    "dates_df.tail()"
   ],
   "metadata": {
    "collapsed": false,
    "ExecuteTime": {
     "end_time": "2023-06-30T21:09:32.286914Z",
     "start_time": "2023-06-30T21:09:32.281837Z"
    }
   }
  },
  {
   "cell_type": "code",
   "execution_count": 11,
   "outputs": [
    {
     "data": {
      "text/plain": "8"
     },
     "execution_count": 11,
     "metadata": {},
     "output_type": "execute_result"
    }
   ],
   "source": [
    "dates_df.to_sql('dates_2023', sql_connection, if_exists='replace')"
   ],
   "metadata": {
    "collapsed": false,
    "ExecuteTime": {
     "end_time": "2023-06-30T21:09:35.220527Z",
     "start_time": "2023-06-30T21:09:35.210483Z"
    }
   }
  },
  {
   "cell_type": "code",
   "execution_count": 9,
   "outputs": [
    {
     "data": {
      "text/plain": "    date_id          meal\nid                       \n26        7         Lunch\n27        7        Dinner\n28        7  Post-Workout\n29        8     Breakfast\n30        8         Lunch",
      "text/html": "<div>\n<style scoped>\n    .dataframe tbody tr th:only-of-type {\n        vertical-align: middle;\n    }\n\n    .dataframe tbody tr th {\n        vertical-align: top;\n    }\n\n    .dataframe thead th {\n        text-align: right;\n    }\n</style>\n<table border=\"1\" class=\"dataframe\">\n  <thead>\n    <tr style=\"text-align: right;\">\n      <th></th>\n      <th>date_id</th>\n      <th>meal</th>\n    </tr>\n    <tr>\n      <th>id</th>\n      <th></th>\n      <th></th>\n    </tr>\n  </thead>\n  <tbody>\n    <tr>\n      <th>26</th>\n      <td>7</td>\n      <td>Lunch</td>\n    </tr>\n    <tr>\n      <th>27</th>\n      <td>7</td>\n      <td>Dinner</td>\n    </tr>\n    <tr>\n      <th>28</th>\n      <td>7</td>\n      <td>Post-Workout</td>\n    </tr>\n    <tr>\n      <th>29</th>\n      <td>8</td>\n      <td>Breakfast</td>\n    </tr>\n    <tr>\n      <th>30</th>\n      <td>8</td>\n      <td>Lunch</td>\n    </tr>\n  </tbody>\n</table>\n</div>"
     },
     "execution_count": 9,
     "metadata": {},
     "output_type": "execute_result"
    }
   ],
   "source": [
    "meals_df = pd.read_sql('SELECT * FROM meals', sql_connection, index_col='id')\n",
    "meals_df.tail()"
   ],
   "metadata": {
    "collapsed": false,
    "ExecuteTime": {
     "end_time": "2023-07-01T02:20:11.694479Z",
     "start_time": "2023-07-01T02:20:11.687807Z"
    }
   }
  },
  {
   "cell_type": "code",
   "execution_count": 16,
   "outputs": [
    {
     "data": {
      "text/plain": "'Post-Workout'"
     },
     "execution_count": 16,
     "metadata": {},
     "output_type": "execute_result"
    }
   ],
   "source": [
    "# Select the meal of the day\n",
    "meal_of_day = input(\"Enter the meal of the day: [1]Breakfast [2]Lunch [3]Dinner [4]Post-Workout\")\n",
    "meal = ''\n",
    "if meal_of_day == '1':\n",
    "    meal = 'Breakfast'\n",
    "elif meal_of_day == '2':\n",
    "    meal = 'Lunch'\n",
    "elif meal_of_day == '3':\n",
    "    meal = 'Dinner'\n",
    "elif meal_of_day == '4':\n",
    "    meal = 'Post-Workout'\n",
    "meal"
   ],
   "metadata": {
    "collapsed": false,
    "ExecuteTime": {
     "end_time": "2023-07-01T02:21:46.633243Z",
     "start_time": "2023-07-01T02:21:44.908115Z"
    }
   }
  },
  {
   "cell_type": "code",
   "execution_count": 17,
   "outputs": [
    {
     "data": {
      "text/plain": "    date_id          meal\nid                       \n28        7  Post-Workout\n29        8     Breakfast\n30        8         Lunch\n31        8        Dinner\n32        8  Post-Workout",
      "text/html": "<div>\n<style scoped>\n    .dataframe tbody tr th:only-of-type {\n        vertical-align: middle;\n    }\n\n    .dataframe tbody tr th {\n        vertical-align: top;\n    }\n\n    .dataframe thead th {\n        text-align: right;\n    }\n</style>\n<table border=\"1\" class=\"dataframe\">\n  <thead>\n    <tr style=\"text-align: right;\">\n      <th></th>\n      <th>date_id</th>\n      <th>meal</th>\n    </tr>\n    <tr>\n      <th>id</th>\n      <th></th>\n      <th></th>\n    </tr>\n  </thead>\n  <tbody>\n    <tr>\n      <th>28</th>\n      <td>7</td>\n      <td>Post-Workout</td>\n    </tr>\n    <tr>\n      <th>29</th>\n      <td>8</td>\n      <td>Breakfast</td>\n    </tr>\n    <tr>\n      <th>30</th>\n      <td>8</td>\n      <td>Lunch</td>\n    </tr>\n    <tr>\n      <th>31</th>\n      <td>8</td>\n      <td>Dinner</td>\n    </tr>\n    <tr>\n      <th>32</th>\n      <td>8</td>\n      <td>Post-Workout</td>\n    </tr>\n  </tbody>\n</table>\n</div>"
     },
     "execution_count": 17,
     "metadata": {},
     "output_type": "execute_result"
    }
   ],
   "source": [
    "# Add meal to meals table\n",
    "meals_df.loc[len(meals_df)+1] = [len(dates_df), meal]\n",
    "meals_df.loc[len(meals_df), 'date_id'] = len(dates_df)\n",
    "meals_df.tail()"
   ],
   "metadata": {
    "collapsed": false,
    "ExecuteTime": {
     "end_time": "2023-07-01T02:21:48.810719Z",
     "start_time": "2023-07-01T02:21:48.806812Z"
    }
   }
  },
  {
   "cell_type": "code",
   "execution_count": 18,
   "outputs": [
    {
     "data": {
      "text/plain": "32"
     },
     "execution_count": 18,
     "metadata": {},
     "output_type": "execute_result"
    }
   ],
   "source": [
    "meals_df.to_sql('meals', sql_connection, if_exists='replace')"
   ],
   "metadata": {
    "collapsed": false,
    "ExecuteTime": {
     "end_time": "2023-07-01T02:21:52.789568Z",
     "start_time": "2023-07-01T02:21:52.780817Z"
    }
   }
  },
  {
   "cell_type": "markdown",
   "source": [
    "### Execute the entry insertion algorithm"
   ],
   "metadata": {
    "collapsed": false
   }
  },
  {
   "cell_type": "code",
   "execution_count": 19,
   "outputs": [
    {
     "data": {
      "text/plain": "    meal_id           food_name  servings  carbs  fats  proteins  calories\nid                                                                        \n81       29      Protein Powder       2.0      3     2        24       120\n82       30     Quarter Pounder       2.0     42    26        30       520\n83       31     Gatorade Powder       2.0     22     0         0        80\n84       31      Protein Powder       2.0      3     2        24       120\n85       31  Ice Cream Sandwich       2.0     26     5         2       160",
      "text/html": "<div>\n<style scoped>\n    .dataframe tbody tr th:only-of-type {\n        vertical-align: middle;\n    }\n\n    .dataframe tbody tr th {\n        vertical-align: top;\n    }\n\n    .dataframe thead th {\n        text-align: right;\n    }\n</style>\n<table border=\"1\" class=\"dataframe\">\n  <thead>\n    <tr style=\"text-align: right;\">\n      <th></th>\n      <th>meal_id</th>\n      <th>food_name</th>\n      <th>servings</th>\n      <th>carbs</th>\n      <th>fats</th>\n      <th>proteins</th>\n      <th>calories</th>\n    </tr>\n    <tr>\n      <th>id</th>\n      <th></th>\n      <th></th>\n      <th></th>\n      <th></th>\n      <th></th>\n      <th></th>\n      <th></th>\n    </tr>\n  </thead>\n  <tbody>\n    <tr>\n      <th>81</th>\n      <td>29</td>\n      <td>Protein Powder</td>\n      <td>2.0</td>\n      <td>3</td>\n      <td>2</td>\n      <td>24</td>\n      <td>120</td>\n    </tr>\n    <tr>\n      <th>82</th>\n      <td>30</td>\n      <td>Quarter Pounder</td>\n      <td>2.0</td>\n      <td>42</td>\n      <td>26</td>\n      <td>30</td>\n      <td>520</td>\n    </tr>\n    <tr>\n      <th>83</th>\n      <td>31</td>\n      <td>Gatorade Powder</td>\n      <td>2.0</td>\n      <td>22</td>\n      <td>0</td>\n      <td>0</td>\n      <td>80</td>\n    </tr>\n    <tr>\n      <th>84</th>\n      <td>31</td>\n      <td>Protein Powder</td>\n      <td>2.0</td>\n      <td>3</td>\n      <td>2</td>\n      <td>24</td>\n      <td>120</td>\n    </tr>\n    <tr>\n      <th>85</th>\n      <td>31</td>\n      <td>Ice Cream Sandwich</td>\n      <td>2.0</td>\n      <td>26</td>\n      <td>5</td>\n      <td>2</td>\n      <td>160</td>\n    </tr>\n  </tbody>\n</table>\n</div>"
     },
     "execution_count": 19,
     "metadata": {},
     "output_type": "execute_result"
    }
   ],
   "source": [
    "foods_df = pd.read_sql('SELECT * FROM foods', sql_connection, index_col='id')\n",
    "foods_df.tail()"
   ],
   "metadata": {
    "collapsed": false,
    "ExecuteTime": {
     "end_time": "2023-07-01T02:22:29.044857Z",
     "start_time": "2023-07-01T02:22:29.035060Z"
    }
   }
  },
  {
   "cell_type": "code",
   "execution_count": 21,
   "metadata": {
    "ExecuteTime": {
     "end_time": "2023-07-01T02:23:58.292484Z",
     "start_time": "2023-07-01T02:23:51.552378Z"
    }
   },
   "outputs": [
    {
     "data": {
      "text/plain": "    meal_id           food_name  servings  carbs  fats  proteins  calories\nid                                                                        \n84       31      Protein Powder       2.0      3     2        24       120\n85       31  Ice Cream Sandwich       2.0     26     5         2       160\n86       32      Gordita Crunch       1.0     41    28        20       490\n87       32         Steak Ques.       1.0     42    27        26       520\n88       32       LG Baja Blast       1.0    111     0         0       420",
      "text/html": "<div>\n<style scoped>\n    .dataframe tbody tr th:only-of-type {\n        vertical-align: middle;\n    }\n\n    .dataframe tbody tr th {\n        vertical-align: top;\n    }\n\n    .dataframe thead th {\n        text-align: right;\n    }\n</style>\n<table border=\"1\" class=\"dataframe\">\n  <thead>\n    <tr style=\"text-align: right;\">\n      <th></th>\n      <th>meal_id</th>\n      <th>food_name</th>\n      <th>servings</th>\n      <th>carbs</th>\n      <th>fats</th>\n      <th>proteins</th>\n      <th>calories</th>\n    </tr>\n    <tr>\n      <th>id</th>\n      <th></th>\n      <th></th>\n      <th></th>\n      <th></th>\n      <th></th>\n      <th></th>\n      <th></th>\n    </tr>\n  </thead>\n  <tbody>\n    <tr>\n      <th>84</th>\n      <td>31</td>\n      <td>Protein Powder</td>\n      <td>2.0</td>\n      <td>3</td>\n      <td>2</td>\n      <td>24</td>\n      <td>120</td>\n    </tr>\n    <tr>\n      <th>85</th>\n      <td>31</td>\n      <td>Ice Cream Sandwich</td>\n      <td>2.0</td>\n      <td>26</td>\n      <td>5</td>\n      <td>2</td>\n      <td>160</td>\n    </tr>\n    <tr>\n      <th>86</th>\n      <td>32</td>\n      <td>Gordita Crunch</td>\n      <td>1.0</td>\n      <td>41</td>\n      <td>28</td>\n      <td>20</td>\n      <td>490</td>\n    </tr>\n    <tr>\n      <th>87</th>\n      <td>32</td>\n      <td>Steak Ques.</td>\n      <td>1.0</td>\n      <td>42</td>\n      <td>27</td>\n      <td>26</td>\n      <td>520</td>\n    </tr>\n    <tr>\n      <th>88</th>\n      <td>32</td>\n      <td>LG Baja Blast</td>\n      <td>1.0</td>\n      <td>111</td>\n      <td>0</td>\n      <td>0</td>\n      <td>420</td>\n    </tr>\n  </tbody>\n</table>\n</div>"
     },
     "execution_count": 21,
     "metadata": {},
     "output_type": "execute_result"
    }
   ],
   "source": [
    "# Enter the foods eaten for the selected meal.\n",
    "choice = 1\n",
    "foods = list(food_db['food_name'])\n",
    "\n",
    "while choice != 2:\n",
    "\n",
    "    \"\"\" This algorithm takes a desired food input and then inserts it into a SQL query to\n",
    "    retrieve the nutritional info for that food. The serving count is then entered and the\n",
    "    entry is inserted into the dataframe. \"\"\"\n",
    "\n",
    "    db_food = input(\"What food would you like too add?\")\n",
    "    if db_food not in foods:\n",
    "        raise Exception(input(\"Food not in database. Try again: \"))\n",
    "    new_food = pd.read_sql(\"SELECT food_name, carbs, fats, protein, calories\"\n",
    "                            \" FROM food_list \"\n",
    "                            \" WHERE food_name = (?)\", sql_connection, params=(db_food,))\n",
    "\n",
    "    meal_id = len(meals_df)\n",
    "    servings = float(input(\"Enter Serving Count: \"))\n",
    "    new_entry = [\n",
    "        meal_id,\n",
    "        new_food.loc[0,'food_name'],\n",
    "        servings,\n",
    "        new_food.loc[0,'carbs'],\n",
    "        new_food.loc[0,'fats'],\n",
    "        new_food.loc[0,'protein'],\n",
    "        new_food.loc[0,'calories']\n",
    "    ]\n",
    "    foods_df.loc[len(foods_df)+1] = new_entry\n",
    "    choice = int(input(\"Add another? [1]Yes [2]No\"))\n",
    "\n",
    "foods_df.tail()"
   ]
  },
  {
   "cell_type": "code",
   "execution_count": 22,
   "outputs": [
    {
     "data": {
      "text/plain": "88"
     },
     "execution_count": 22,
     "metadata": {},
     "output_type": "execute_result"
    }
   ],
   "source": [
    "foods_df.to_sql('foods', sql_connection, if_exists='replace')"
   ],
   "metadata": {
    "collapsed": false,
    "ExecuteTime": {
     "end_time": "2023-07-01T02:24:08.963483Z",
     "start_time": "2023-07-01T02:24:08.954414Z"
    }
   }
  },
  {
   "cell_type": "code",
   "execution_count": 23,
   "outputs": [],
   "source": [
    "# TODO: Change export path to project local datasets directory\n",
    "# Back up updated tables as csv files\n",
    "dates_df.to_csv(r'/Users/tukles/Library/CloudStorage/GoogleDrive-brent.artuch@gmail.com/My Drive/CSV/dates_2023.csv')\n",
    "meals_df.to_csv(r'/Users/tukles/Library/CloudStorage/GoogleDrive-brent.artuch@gmail.com/My Drive/CSV/meals.csv')\n",
    "foods_df.to_csv(r'/Users/tukles/Library/CloudStorage/GoogleDrive-brent.artuch@gmail.com/My Drive/CSV/foods.csv')"
   ],
   "metadata": {
    "collapsed": false,
    "ExecuteTime": {
     "end_time": "2023-07-01T02:24:19.084315Z",
     "start_time": "2023-07-01T02:24:19.073007Z"
    }
   }
  },
  {
   "cell_type": "markdown",
   "metadata": {
    "ExecuteTime": {
     "end_time": "2023-06-29T06:45:41.029477Z",
     "start_time": "2023-06-29T06:45:32.481629Z"
    }
   },
   "source": [
    "### Data Manipulation\n",
    "This section exists for convenience if quick changes need to be made to the entries."
   ],
   "outputs": [
    {
     "data": {
      "text/plain": "    meal_id           food_name  servings  carbs  fats  proteins  calories\nid                                                                        \n62       21      Protein Powder       2.0      3     2        24       120\n63       22                Rice       2.0     45     1         4       206\n64       22      Protein Powder       2.0      3     2        24       120\n65       22              Butter       1.0      0    11         0       100\n66       23     Quarter Pounder       2.0     42    26        30       520\n67       23     Gatorade Powder       2.0     22     0         0        80\n68       24  Ice Cream Sandwich       1.0     26     5         2       160\n69       24      Protein Powder       2.0      3     2        24       120\n70       26      Protein Powder       2.0      3     2        24       120\n71       26                Rice       1.0     45     1         4       206",
      "text/html": "<div>\n<style scoped>\n    .dataframe tbody tr th:only-of-type {\n        vertical-align: middle;\n    }\n\n    .dataframe tbody tr th {\n        vertical-align: top;\n    }\n\n    .dataframe thead th {\n        text-align: right;\n    }\n</style>\n<table border=\"1\" class=\"dataframe\">\n  <thead>\n    <tr style=\"text-align: right;\">\n      <th></th>\n      <th>meal_id</th>\n      <th>food_name</th>\n      <th>servings</th>\n      <th>carbs</th>\n      <th>fats</th>\n      <th>proteins</th>\n      <th>calories</th>\n    </tr>\n    <tr>\n      <th>id</th>\n      <th></th>\n      <th></th>\n      <th></th>\n      <th></th>\n      <th></th>\n      <th></th>\n      <th></th>\n    </tr>\n  </thead>\n  <tbody>\n    <tr>\n      <th>62</th>\n      <td>21</td>\n      <td>Protein Powder</td>\n      <td>2.0</td>\n      <td>3</td>\n      <td>2</td>\n      <td>24</td>\n      <td>120</td>\n    </tr>\n    <tr>\n      <th>63</th>\n      <td>22</td>\n      <td>Rice</td>\n      <td>2.0</td>\n      <td>45</td>\n      <td>1</td>\n      <td>4</td>\n      <td>206</td>\n    </tr>\n    <tr>\n      <th>64</th>\n      <td>22</td>\n      <td>Protein Powder</td>\n      <td>2.0</td>\n      <td>3</td>\n      <td>2</td>\n      <td>24</td>\n      <td>120</td>\n    </tr>\n    <tr>\n      <th>65</th>\n      <td>22</td>\n      <td>Butter</td>\n      <td>1.0</td>\n      <td>0</td>\n      <td>11</td>\n      <td>0</td>\n      <td>100</td>\n    </tr>\n    <tr>\n      <th>66</th>\n      <td>23</td>\n      <td>Quarter Pounder</td>\n      <td>2.0</td>\n      <td>42</td>\n      <td>26</td>\n      <td>30</td>\n      <td>520</td>\n    </tr>\n    <tr>\n      <th>67</th>\n      <td>23</td>\n      <td>Gatorade Powder</td>\n      <td>2.0</td>\n      <td>22</td>\n      <td>0</td>\n      <td>0</td>\n      <td>80</td>\n    </tr>\n    <tr>\n      <th>68</th>\n      <td>24</td>\n      <td>Ice Cream Sandwich</td>\n      <td>1.0</td>\n      <td>26</td>\n      <td>5</td>\n      <td>2</td>\n      <td>160</td>\n    </tr>\n    <tr>\n      <th>69</th>\n      <td>24</td>\n      <td>Protein Powder</td>\n      <td>2.0</td>\n      <td>3</td>\n      <td>2</td>\n      <td>24</td>\n      <td>120</td>\n    </tr>\n    <tr>\n      <th>70</th>\n      <td>26</td>\n      <td>Protein Powder</td>\n      <td>2.0</td>\n      <td>3</td>\n      <td>2</td>\n      <td>24</td>\n      <td>120</td>\n    </tr>\n    <tr>\n      <th>71</th>\n      <td>26</td>\n      <td>Rice</td>\n      <td>1.0</td>\n      <td>45</td>\n      <td>1</td>\n      <td>4</td>\n      <td>206</td>\n    </tr>\n  </tbody>\n</table>\n</div>"
     },
     "execution_count": 56,
     "metadata": {},
     "output_type": "execute_result"
    }
   ],
   "execution_count": 56
  },
  {
   "cell_type": "code",
   "execution_count": 24,
   "metadata": {
    "ExecuteTime": {
     "end_time": "2023-07-01T02:24:21.378498Z",
     "start_time": "2023-07-01T02:24:21.372908Z"
    }
   },
   "outputs": [
    {
     "data": {
      "text/plain": "    id        date          meal           food_name  servings  carbs  fats  \\\n83  84  2023-06-30        Dinner      Protein Powder       2.0      3     2   \n84  85  2023-06-30        Dinner  Ice Cream Sandwich       2.0     26     5   \n85  86  2023-06-30  Post-Workout      Gordita Crunch       1.0     41    28   \n86  87  2023-06-30  Post-Workout         Steak Ques.       1.0     42    27   \n87  88  2023-06-30  Post-Workout       LG Baja Blast       1.0    111     0   \n\n    proteins  calories  \n83        24       120  \n84         2       160  \n85        20       490  \n86        26       520  \n87         0       420  ",
      "text/html": "<div>\n<style scoped>\n    .dataframe tbody tr th:only-of-type {\n        vertical-align: middle;\n    }\n\n    .dataframe tbody tr th {\n        vertical-align: top;\n    }\n\n    .dataframe thead th {\n        text-align: right;\n    }\n</style>\n<table border=\"1\" class=\"dataframe\">\n  <thead>\n    <tr style=\"text-align: right;\">\n      <th></th>\n      <th>id</th>\n      <th>date</th>\n      <th>meal</th>\n      <th>food_name</th>\n      <th>servings</th>\n      <th>carbs</th>\n      <th>fats</th>\n      <th>proteins</th>\n      <th>calories</th>\n    </tr>\n  </thead>\n  <tbody>\n    <tr>\n      <th>83</th>\n      <td>84</td>\n      <td>2023-06-30</td>\n      <td>Dinner</td>\n      <td>Protein Powder</td>\n      <td>2.0</td>\n      <td>3</td>\n      <td>2</td>\n      <td>24</td>\n      <td>120</td>\n    </tr>\n    <tr>\n      <th>84</th>\n      <td>85</td>\n      <td>2023-06-30</td>\n      <td>Dinner</td>\n      <td>Ice Cream Sandwich</td>\n      <td>2.0</td>\n      <td>26</td>\n      <td>5</td>\n      <td>2</td>\n      <td>160</td>\n    </tr>\n    <tr>\n      <th>85</th>\n      <td>86</td>\n      <td>2023-06-30</td>\n      <td>Post-Workout</td>\n      <td>Gordita Crunch</td>\n      <td>1.0</td>\n      <td>41</td>\n      <td>28</td>\n      <td>20</td>\n      <td>490</td>\n    </tr>\n    <tr>\n      <th>86</th>\n      <td>87</td>\n      <td>2023-06-30</td>\n      <td>Post-Workout</td>\n      <td>Steak Ques.</td>\n      <td>1.0</td>\n      <td>42</td>\n      <td>27</td>\n      <td>26</td>\n      <td>520</td>\n    </tr>\n    <tr>\n      <th>87</th>\n      <td>88</td>\n      <td>2023-06-30</td>\n      <td>Post-Workout</td>\n      <td>LG Baja Blast</td>\n      <td>1.0</td>\n      <td>111</td>\n      <td>0</td>\n      <td>0</td>\n      <td>420</td>\n    </tr>\n  </tbody>\n</table>\n</div>"
     },
     "execution_count": 24,
     "metadata": {},
     "output_type": "execute_result"
    }
   ],
   "source": [
    "updated_foods = pd.read_sql(\n",
    "    '''\n",
    "    SELECT f.id, d.date, m.meal, f.food_name, f.servings, f.carbs, f.fats, f.proteins, f.calories\n",
    "    FROM meals m\n",
    "    INNER JOIN foods f on f.meal_id = m.id\n",
    "    INNER JOIN dates_2023 d on d.id = m.date_id\n",
    "    ORDER BY f.id\n",
    "    ''',\n",
    "    sql_connection)\n",
    "updated_foods.tail()"
   ]
  },
  {
   "cell_type": "markdown",
   "metadata": {
    "ExecuteTime": {
     "end_time": "2023-05-31T03:51:24.643833Z",
     "start_time": "2023-05-31T03:51:24.629632Z"
    }
   },
   "source": [
    "## Step 4: Daily Macro Calculations\n",
    "### Filter out all entries besides those with today's date."
   ],
   "outputs": [
    {
     "data": {
      "text/plain": "221"
     },
     "execution_count": 5,
     "metadata": {},
     "output_type": "execute_result"
    }
   ],
   "execution_count": 5
  },
  {
   "cell_type": "code",
   "execution_count": 27,
   "metadata": {
    "ExecuteTime": {
     "end_time": "2023-07-01T02:25:15.200644Z",
     "start_time": "2023-07-01T02:25:15.198648Z"
    }
   },
   "outputs": [
    {
     "data": {
      "text/plain": "    id        date          meal           food_name  servings  carbs  fats  \\\n78  79  2023-06-30     Breakfast             Oatmeal       2.0     32     3   \n79  80  2023-06-30     Breakfast          Cereal Bar       2.0     24     3   \n80  81  2023-06-30     Breakfast      Protein Powder       2.0      3     2   \n81  82  2023-06-30         Lunch     Quarter Pounder       2.0     42    26   \n82  83  2023-06-30        Dinner     Gatorade Powder       2.0     22     0   \n83  84  2023-06-30        Dinner      Protein Powder       2.0      3     2   \n84  85  2023-06-30        Dinner  Ice Cream Sandwich       2.0     26     5   \n85  86  2023-06-30  Post-Workout      Gordita Crunch       1.0     41    28   \n86  87  2023-06-30  Post-Workout         Steak Ques.       1.0     42    27   \n87  88  2023-06-30  Post-Workout       LG Baja Blast       1.0    111     0   \n\n    proteins  calories  \n78         9       160  \n79         1       130  \n80        24       120  \n81        30       520  \n82         0        80  \n83        24       120  \n84         2       160  \n85        20       490  \n86        26       520  \n87         0       420  ",
      "text/html": "<div>\n<style scoped>\n    .dataframe tbody tr th:only-of-type {\n        vertical-align: middle;\n    }\n\n    .dataframe tbody tr th {\n        vertical-align: top;\n    }\n\n    .dataframe thead th {\n        text-align: right;\n    }\n</style>\n<table border=\"1\" class=\"dataframe\">\n  <thead>\n    <tr style=\"text-align: right;\">\n      <th></th>\n      <th>id</th>\n      <th>date</th>\n      <th>meal</th>\n      <th>food_name</th>\n      <th>servings</th>\n      <th>carbs</th>\n      <th>fats</th>\n      <th>proteins</th>\n      <th>calories</th>\n    </tr>\n  </thead>\n  <tbody>\n    <tr>\n      <th>78</th>\n      <td>79</td>\n      <td>2023-06-30</td>\n      <td>Breakfast</td>\n      <td>Oatmeal</td>\n      <td>2.0</td>\n      <td>32</td>\n      <td>3</td>\n      <td>9</td>\n      <td>160</td>\n    </tr>\n    <tr>\n      <th>79</th>\n      <td>80</td>\n      <td>2023-06-30</td>\n      <td>Breakfast</td>\n      <td>Cereal Bar</td>\n      <td>2.0</td>\n      <td>24</td>\n      <td>3</td>\n      <td>1</td>\n      <td>130</td>\n    </tr>\n    <tr>\n      <th>80</th>\n      <td>81</td>\n      <td>2023-06-30</td>\n      <td>Breakfast</td>\n      <td>Protein Powder</td>\n      <td>2.0</td>\n      <td>3</td>\n      <td>2</td>\n      <td>24</td>\n      <td>120</td>\n    </tr>\n    <tr>\n      <th>81</th>\n      <td>82</td>\n      <td>2023-06-30</td>\n      <td>Lunch</td>\n      <td>Quarter Pounder</td>\n      <td>2.0</td>\n      <td>42</td>\n      <td>26</td>\n      <td>30</td>\n      <td>520</td>\n    </tr>\n    <tr>\n      <th>82</th>\n      <td>83</td>\n      <td>2023-06-30</td>\n      <td>Dinner</td>\n      <td>Gatorade Powder</td>\n      <td>2.0</td>\n      <td>22</td>\n      <td>0</td>\n      <td>0</td>\n      <td>80</td>\n    </tr>\n    <tr>\n      <th>83</th>\n      <td>84</td>\n      <td>2023-06-30</td>\n      <td>Dinner</td>\n      <td>Protein Powder</td>\n      <td>2.0</td>\n      <td>3</td>\n      <td>2</td>\n      <td>24</td>\n      <td>120</td>\n    </tr>\n    <tr>\n      <th>84</th>\n      <td>85</td>\n      <td>2023-06-30</td>\n      <td>Dinner</td>\n      <td>Ice Cream Sandwich</td>\n      <td>2.0</td>\n      <td>26</td>\n      <td>5</td>\n      <td>2</td>\n      <td>160</td>\n    </tr>\n    <tr>\n      <th>85</th>\n      <td>86</td>\n      <td>2023-06-30</td>\n      <td>Post-Workout</td>\n      <td>Gordita Crunch</td>\n      <td>1.0</td>\n      <td>41</td>\n      <td>28</td>\n      <td>20</td>\n      <td>490</td>\n    </tr>\n    <tr>\n      <th>86</th>\n      <td>87</td>\n      <td>2023-06-30</td>\n      <td>Post-Workout</td>\n      <td>Steak Ques.</td>\n      <td>1.0</td>\n      <td>42</td>\n      <td>27</td>\n      <td>26</td>\n      <td>520</td>\n    </tr>\n    <tr>\n      <th>87</th>\n      <td>88</td>\n      <td>2023-06-30</td>\n      <td>Post-Workout</td>\n      <td>LG Baja Blast</td>\n      <td>1.0</td>\n      <td>111</td>\n      <td>0</td>\n      <td>0</td>\n      <td>420</td>\n    </tr>\n  </tbody>\n</table>\n</div>"
     },
     "execution_count": 27,
     "metadata": {},
     "output_type": "execute_result"
    }
   ],
   "source": [
    "# Sort entries by date\n",
    "today = updated_foods[updated_foods['date']==date]\n",
    "today"
   ]
  },
  {
   "cell_type": "markdown",
   "metadata": {
    "ExecuteTime": {
     "end_time": "2023-05-31T03:51:45.336772Z",
     "start_time": "2023-05-31T03:51:45.332933Z"
    }
   },
   "source": [
    "### Macro Calculations\n",
    "These calculations assist in assessing the required macro nutrients for the day and possible adjustments\n",
    "that need to made if carbs or fats have exceeded or come up short of their targets."
   ],
   "outputs": [
    {
     "data": {
      "text/plain": "       food_id       date  meal_number       food_name  servings  carbs  fats   \nindex                                                                           \n211    1000213 2023-05-30            1           Ramen       1.0   54.0  14.0  \\\n212    1000214 2023-05-30            1  Protein Powder       2.0    3.0   2.0   \n213    1000215 2023-05-30            2        Pop Tart       1.0   74.0   9.0   \n214    1000216 2023-05-30            2            Eggs       4.0    0.0   5.0   \n215    1000217 2023-05-30            3            Rice       2.0   45.0   1.0   \n216    1000218 2023-05-30            3  Protein Powder       2.0    3.0   2.0   \n217    1000219 2023-05-30            3    Spicy Garlic       1.0    3.0   6.0   \n218    1000220 2023-05-30            3    Fruit Snacks       1.0   17.0   0.0   \n219    1000221 2023-05-30            4  Protein Powder       2.0    3.0   2.0   \n220    1000222 2023-05-30            4     Steak Ques.       1.0   42.0  27.0   \n\n       protein  calories  \nindex                     \n211          8       370  \n212         24       120  \n213          3       390  \n214          6        70  \n215          4       206  \n216         24       120  \n217          1        70  \n218          1        70  \n219         24       120  \n220         26       520  ",
      "text/html": "<div>\n<style scoped>\n    .dataframe tbody tr th:only-of-type {\n        vertical-align: middle;\n    }\n\n    .dataframe tbody tr th {\n        vertical-align: top;\n    }\n\n    .dataframe thead th {\n        text-align: right;\n    }\n</style>\n<table border=\"1\" class=\"dataframe\">\n  <thead>\n    <tr style=\"text-align: right;\">\n      <th></th>\n      <th>food_id</th>\n      <th>date</th>\n      <th>meal_number</th>\n      <th>food_name</th>\n      <th>servings</th>\n      <th>carbs</th>\n      <th>fats</th>\n      <th>protein</th>\n      <th>calories</th>\n    </tr>\n    <tr>\n      <th>index</th>\n      <th></th>\n      <th></th>\n      <th></th>\n      <th></th>\n      <th></th>\n      <th></th>\n      <th></th>\n      <th></th>\n      <th></th>\n    </tr>\n  </thead>\n  <tbody>\n    <tr>\n      <th>211</th>\n      <td>1000213</td>\n      <td>2023-05-30</td>\n      <td>1</td>\n      <td>Ramen</td>\n      <td>1.0</td>\n      <td>54.0</td>\n      <td>14.0</td>\n      <td>8</td>\n      <td>370</td>\n    </tr>\n    <tr>\n      <th>212</th>\n      <td>1000214</td>\n      <td>2023-05-30</td>\n      <td>1</td>\n      <td>Protein Powder</td>\n      <td>2.0</td>\n      <td>3.0</td>\n      <td>2.0</td>\n      <td>24</td>\n      <td>120</td>\n    </tr>\n    <tr>\n      <th>213</th>\n      <td>1000215</td>\n      <td>2023-05-30</td>\n      <td>2</td>\n      <td>Pop Tart</td>\n      <td>1.0</td>\n      <td>74.0</td>\n      <td>9.0</td>\n      <td>3</td>\n      <td>390</td>\n    </tr>\n    <tr>\n      <th>214</th>\n      <td>1000216</td>\n      <td>2023-05-30</td>\n      <td>2</td>\n      <td>Eggs</td>\n      <td>4.0</td>\n      <td>0.0</td>\n      <td>5.0</td>\n      <td>6</td>\n      <td>70</td>\n    </tr>\n    <tr>\n      <th>215</th>\n      <td>1000217</td>\n      <td>2023-05-30</td>\n      <td>3</td>\n      <td>Rice</td>\n      <td>2.0</td>\n      <td>45.0</td>\n      <td>1.0</td>\n      <td>4</td>\n      <td>206</td>\n    </tr>\n    <tr>\n      <th>216</th>\n      <td>1000218</td>\n      <td>2023-05-30</td>\n      <td>3</td>\n      <td>Protein Powder</td>\n      <td>2.0</td>\n      <td>3.0</td>\n      <td>2.0</td>\n      <td>24</td>\n      <td>120</td>\n    </tr>\n    <tr>\n      <th>217</th>\n      <td>1000219</td>\n      <td>2023-05-30</td>\n      <td>3</td>\n      <td>Spicy Garlic</td>\n      <td>1.0</td>\n      <td>3.0</td>\n      <td>6.0</td>\n      <td>1</td>\n      <td>70</td>\n    </tr>\n    <tr>\n      <th>218</th>\n      <td>1000220</td>\n      <td>2023-05-30</td>\n      <td>3</td>\n      <td>Fruit Snacks</td>\n      <td>1.0</td>\n      <td>17.0</td>\n      <td>0.0</td>\n      <td>1</td>\n      <td>70</td>\n    </tr>\n    <tr>\n      <th>219</th>\n      <td>1000221</td>\n      <td>2023-05-30</td>\n      <td>4</td>\n      <td>Protein Powder</td>\n      <td>2.0</td>\n      <td>3.0</td>\n      <td>2.0</td>\n      <td>24</td>\n      <td>120</td>\n    </tr>\n    <tr>\n      <th>220</th>\n      <td>1000222</td>\n      <td>2023-05-30</td>\n      <td>4</td>\n      <td>Steak Ques.</td>\n      <td>1.0</td>\n      <td>42.0</td>\n      <td>27.0</td>\n      <td>26</td>\n      <td>520</td>\n    </tr>\n  </tbody>\n</table>\n</div>"
     },
     "execution_count": 6,
     "metadata": {},
     "output_type": "execute_result"
    }
   ],
   "execution_count": 6
  },
  {
   "cell_type": "code",
   "execution_count": 28,
   "metadata": {
    "ExecuteTime": {
     "end_time": "2023-07-01T02:25:23.323574Z",
     "start_time": "2023-07-01T02:25:23.318341Z"
    }
   },
   "outputs": [
    {
     "name": "stdout",
     "output_type": "stream",
     "text": [
      "Carbs: 498 | Goals: 525 425 325\n",
      "Fats: 137 | Goals: 100 75 50\n",
      "Protein: 226 | Goal: 200\n",
      "Calories: 4010\n"
     ]
    }
   ],
   "source": [
    "# Calculate macronutrient totals based on serving count\n",
    "total_carbs = int((today['carbs'] * today['servings']).sum())\n",
    "total_fats = int((today['fats'] * today['servings']).sum())\n",
    "total_proteins = int((today['proteins'] * today['servings']).sum())\n",
    "total_cals = int((today['calories'] * today['servings']).sum())\n",
    "\n",
    "print(f\"Carbs: {total_carbs} | Goals: 525 425 325\")\n",
    "print(f\"Fats: {total_fats} | Goals: 100 75 50\")\n",
    "print(f\"Protein: {total_proteins} | Goal: 200\")\n",
    "print(f\"Calories: {total_cals}\")"
   ]
  },
  {
   "cell_type": "markdown",
   "source": [
    "### Convert the macro nutrients to their caloric measurement."
   ],
   "metadata": {
    "collapsed": false
   }
  },
  {
   "cell_type": "code",
   "execution_count": 30,
   "metadata": {
    "ExecuteTime": {
     "end_time": "2023-07-01T02:25:36.764066Z",
     "start_time": "2023-07-01T02:25:36.760192Z"
    }
   },
   "outputs": [
    {
     "name": "stdout",
     "output_type": "stream",
     "text": [
      "Calories From Carbs: 1992\n",
      "Calories From Fats: 1233\n",
      "Non-Protein Calories: 3225 Goal: 3000\n",
      "Calorie Difference: 225\n",
      "Calories From Protein: 904\n"
     ]
    }
   ],
   "source": [
    "# Calculate the number of calories from each macro nutrient.\n",
    "carb_cals = total_carbs * 4\n",
    "fat_cals = total_fats * 9\n",
    "non_protein_cals = carb_cals + fat_cals\n",
    "large_goal_npc = (525*4)+(100*9)\n",
    "small_goal_npc = (425*4)+(75*9)\n",
    "rest_goal_npc = (325*4)+(50*9)\n",
    "goal = large_goal_npc # large_goal_npc OR small_goal_npc OR rest_goal_npc\n",
    "cal_difference = abs(goal-non_protein_cals)\n",
    "protein_cals = total_proteins * 4\n",
    "\n",
    "print(f\"Calories From Carbs: {carb_cals}\")\n",
    "print(f\"Calories From Fats: {fat_cals}\")\n",
    "print(f\"Non-Protein Calories: {non_protein_cals} Goal: {goal}\")\n",
    "print(f\"Calorie Difference: {cal_difference}\")\n",
    "print(f\"Calories From Protein: {protein_cals}\")"
   ]
  },
  {
   "cell_type": "markdown",
   "source": [
    "## Step 5: Visualize the Data\n",
    "Portray the macro nutrient dispersion of calories as a pie chart."
   ],
   "metadata": {
    "collapsed": false
   }
  },
  {
   "cell_type": "code",
   "execution_count": 31,
   "metadata": {
    "ExecuteTime": {
     "end_time": "2023-07-01T02:25:48.570454Z",
     "start_time": "2023-07-01T02:25:48.466493Z"
    }
   },
   "outputs": [
    {
     "data": {
      "text/plain": "<Figure size 500x500 with 1 Axes>",
      "image/png": "[encoded data removed]"
     },
     "metadata": {},
     "output_type": "display_data"
    }
   ],
   "source": [
    "# Plot as a pie chart\n",
    "macro_series = pd.Series(\n",
    "    [carb_cals, fat_cals, protein_cals],\n",
    "    index=['Carbs', 'Fats', 'Proteins'],\n",
    "    name=\"\"\n",
    ")\n",
    "\n",
    "macro_series.plot.pie(\n",
    "    colors=sns.color_palette('colorblind'),\n",
    "    autopct='%1.0f%%',\n",
    "    fontsize=17,\n",
    "    shadow=True,\n",
    "    explode=(0.04,0.04,0.04),\n",
    "    figsize=(5,5)\n",
    ");"
   ]
  },
  {
   "cell_type": "markdown",
   "source": [
    "##### Add a new `total_food_cals` column that is the product of the food entry servings by its `calories`."
   ],
   "metadata": {
    "collapsed": false
   }
  },
  {
   "cell_type": "code",
   "execution_count": 32,
   "metadata": {
    "ExecuteTime": {
     "end_time": "2023-07-01T02:25:51.038201Z",
     "start_time": "2023-07-01T02:25:51.034338Z"
    }
   },
   "outputs": [
    {
     "data": {
      "text/plain": "    id        date          meal           food_name  servings  carbs  fats  \\\n78  79  2023-06-30     Breakfast             Oatmeal       2.0     32     3   \n79  80  2023-06-30     Breakfast          Cereal Bar       2.0     24     3   \n80  81  2023-06-30     Breakfast      Protein Powder       2.0      3     2   \n81  82  2023-06-30         Lunch     Quarter Pounder       2.0     42    26   \n82  83  2023-06-30        Dinner     Gatorade Powder       2.0     22     0   \n83  84  2023-06-30        Dinner      Protein Powder       2.0      3     2   \n84  85  2023-06-30        Dinner  Ice Cream Sandwich       2.0     26     5   \n85  86  2023-06-30  Post-Workout      Gordita Crunch       1.0     41    28   \n86  87  2023-06-30  Post-Workout         Steak Ques.       1.0     42    27   \n87  88  2023-06-30  Post-Workout       LG Baja Blast       1.0    111     0   \n\n    proteins  calories  total_food_cals  \n78         9       160            320.0  \n79         1       130            260.0  \n80        24       120            240.0  \n81        30       520           1040.0  \n82         0        80            160.0  \n83        24       120            240.0  \n84         2       160            320.0  \n85        20       490            490.0  \n86        26       520            520.0  \n87         0       420            420.0  ",
      "text/html": "<div>\n<style scoped>\n    .dataframe tbody tr th:only-of-type {\n        vertical-align: middle;\n    }\n\n    .dataframe tbody tr th {\n        vertical-align: top;\n    }\n\n    .dataframe thead th {\n        text-align: right;\n    }\n</style>\n<table border=\"1\" class=\"dataframe\">\n  <thead>\n    <tr style=\"text-align: right;\">\n      <th></th>\n      <th>id</th>\n      <th>date</th>\n      <th>meal</th>\n      <th>food_name</th>\n      <th>servings</th>\n      <th>carbs</th>\n      <th>fats</th>\n      <th>proteins</th>\n      <th>calories</th>\n      <th>total_food_cals</th>\n    </tr>\n  </thead>\n  <tbody>\n    <tr>\n      <th>78</th>\n      <td>79</td>\n      <td>2023-06-30</td>\n      <td>Breakfast</td>\n      <td>Oatmeal</td>\n      <td>2.0</td>\n      <td>32</td>\n      <td>3</td>\n      <td>9</td>\n      <td>160</td>\n      <td>320.0</td>\n    </tr>\n    <tr>\n      <th>79</th>\n      <td>80</td>\n      <td>2023-06-30</td>\n      <td>Breakfast</td>\n      <td>Cereal Bar</td>\n      <td>2.0</td>\n      <td>24</td>\n      <td>3</td>\n      <td>1</td>\n      <td>130</td>\n      <td>260.0</td>\n    </tr>\n    <tr>\n      <th>80</th>\n      <td>81</td>\n      <td>2023-06-30</td>\n      <td>Breakfast</td>\n      <td>Protein Powder</td>\n      <td>2.0</td>\n      <td>3</td>\n      <td>2</td>\n      <td>24</td>\n      <td>120</td>\n      <td>240.0</td>\n    </tr>\n    <tr>\n      <th>81</th>\n      <td>82</td>\n      <td>2023-06-30</td>\n      <td>Lunch</td>\n      <td>Quarter Pounder</td>\n      <td>2.0</td>\n      <td>42</td>\n      <td>26</td>\n      <td>30</td>\n      <td>520</td>\n      <td>1040.0</td>\n    </tr>\n    <tr>\n      <th>82</th>\n      <td>83</td>\n      <td>2023-06-30</td>\n      <td>Dinner</td>\n      <td>Gatorade Powder</td>\n      <td>2.0</td>\n      <td>22</td>\n      <td>0</td>\n      <td>0</td>\n      <td>80</td>\n      <td>160.0</td>\n    </tr>\n    <tr>\n      <th>83</th>\n      <td>84</td>\n      <td>2023-06-30</td>\n      <td>Dinner</td>\n      <td>Protein Powder</td>\n      <td>2.0</td>\n      <td>3</td>\n      <td>2</td>\n      <td>24</td>\n      <td>120</td>\n      <td>240.0</td>\n    </tr>\n    <tr>\n      <th>84</th>\n      <td>85</td>\n      <td>2023-06-30</td>\n      <td>Dinner</td>\n      <td>Ice Cream Sandwich</td>\n      <td>2.0</td>\n      <td>26</td>\n      <td>5</td>\n      <td>2</td>\n      <td>160</td>\n      <td>320.0</td>\n    </tr>\n    <tr>\n      <th>85</th>\n      <td>86</td>\n      <td>2023-06-30</td>\n      <td>Post-Workout</td>\n      <td>Gordita Crunch</td>\n      <td>1.0</td>\n      <td>41</td>\n      <td>28</td>\n      <td>20</td>\n      <td>490</td>\n      <td>490.0</td>\n    </tr>\n    <tr>\n      <th>86</th>\n      <td>87</td>\n      <td>2023-06-30</td>\n      <td>Post-Workout</td>\n      <td>Steak Ques.</td>\n      <td>1.0</td>\n      <td>42</td>\n      <td>27</td>\n      <td>26</td>\n      <td>520</td>\n      <td>520.0</td>\n    </tr>\n    <tr>\n      <th>87</th>\n      <td>88</td>\n      <td>2023-06-30</td>\n      <td>Post-Workout</td>\n      <td>LG Baja Blast</td>\n      <td>1.0</td>\n      <td>111</td>\n      <td>0</td>\n      <td>0</td>\n      <td>420</td>\n      <td>420.0</td>\n    </tr>\n  </tbody>\n</table>\n</div>"
     },
     "execution_count": 32,
     "metadata": {},
     "output_type": "execute_result"
    }
   ],
   "source": [
    "# Add a total calories column\n",
    "updated_foods['total_food_cals'] = updated_foods['servings'] * updated_foods['calories']\n",
    "\n",
    "# Sort entries by date\n",
    "today = updated_foods[updated_foods['date']==date]\n",
    "today"
   ]
  },
  {
   "cell_type": "markdown",
   "source": [
    "##### Group the entries by `meal_number` and aggregate the corresponding `total_food_cals` to get `cals_per_meal`"
   ],
   "metadata": {
    "collapsed": false
   }
  },
  {
   "cell_type": "code",
   "execution_count": 33,
   "metadata": {
    "ExecuteTime": {
     "end_time": "2023-07-01T02:25:53.634369Z",
     "start_time": "2023-07-01T02:25:53.629421Z"
    }
   },
   "outputs": [
    {
     "data": {
      "text/plain": "              total_food_cals\nmeal                         \nBreakfast               820.0\nLunch                  1040.0\nDinner                  720.0\nPost-Workout           1430.0",
      "text/html": "<div>\n<style scoped>\n    .dataframe tbody tr th:only-of-type {\n        vertical-align: middle;\n    }\n\n    .dataframe tbody tr th {\n        vertical-align: top;\n    }\n\n    .dataframe thead th {\n        text-align: right;\n    }\n</style>\n<table border=\"1\" class=\"dataframe\">\n  <thead>\n    <tr style=\"text-align: right;\">\n      <th></th>\n      <th>total_food_cals</th>\n    </tr>\n    <tr>\n      <th>meal</th>\n      <th></th>\n    </tr>\n  </thead>\n  <tbody>\n    <tr>\n      <th>Breakfast</th>\n      <td>820.0</td>\n    </tr>\n    <tr>\n      <th>Lunch</th>\n      <td>1040.0</td>\n    </tr>\n    <tr>\n      <th>Dinner</th>\n      <td>720.0</td>\n    </tr>\n    <tr>\n      <th>Post-Workout</th>\n      <td>1430.0</td>\n    </tr>\n  </tbody>\n</table>\n</div>"
     },
     "execution_count": 33,
     "metadata": {},
     "output_type": "execute_result"
    }
   ],
   "source": [
    "cals_per_meal = today.groupby(today['meal'], sort=False).aggregate({'total_food_cals': 'sum'})\n",
    "cals_per_meal.reset_index()\n",
    "cals_per_meal"
   ]
  },
  {
   "cell_type": "markdown",
   "source": [
    "### Plot the calories per meal\n",
    "Ideally the line should be as level as possible over four meals."
   ],
   "metadata": {
    "collapsed": false
   }
  },
  {
   "cell_type": "code",
   "execution_count": 34,
   "metadata": {
    "ExecuteTime": {
     "end_time": "2023-07-01T02:25:56.019230Z",
     "start_time": "2023-07-01T02:25:55.934531Z"
    }
   },
   "outputs": [
    {
     "data": {
      "text/plain": "<Figure size 640x480 with 1 Axes>",
      "image/png": "[encoded data removed]"
     },
     "metadata": {},
     "output_type": "display_data"
    }
   ],
   "source": [
    "fig = sns.barplot(data=cals_per_meal, x=cals_per_meal.index,y='total_food_cals')\n",
    "fig.set(title=\"Calories Per Meal\", xlabel=\"Meal\", ylabel=\"Total Calories\");"
   ]
  },
  {
   "cell_type": "markdown",
   "metadata": {
    "ExecuteTime": {
     "end_time": "2023-05-31T03:52:16.139828Z",
     "start_time": "2023-05-31T03:52:16.017197Z"
    }
   },
   "source": [
    "## LOG:\n",
    "### 2023-05-15: Wine removed from diet\n",
    "### 2023-05-29: New Cal Goals 500 400 300"
   ],
   "outputs": [
    {
     "data": {
      "text/plain": "<Axes: title={'center': 'Calories Per Meal'}, xlabel='Meal Number', ylabel='Calorie Count'>"
     },
     "execution_count": 13,
     "metadata": {},
     "output_type": "execute_result"
    },
    {
     "data": {
      "text/plain": "<Figure size 600x400 with 1 Axes>",
      "image/png": "[encoded data removed]"
     },
     "metadata": {},
     "output_type": "display_data"
    }
   ],
   "execution_count": 13
  }
 ],
 "metadata": {
  "kernelspec": {
   "display_name": "Python 3 (ipykernel)",
   "language": "python",
   "name": "python3"
  },
  "language_info": {
   "codemirror_mode": {
    "name": "ipython",
    "version": 3
   },
   "file_extension": ".py",
   "mimetype": "text/x-python",
   "name": "python",
   "nbconvert_exporter": "python",
   "pygments_lexer": "ipython3",
   "version": "3.9.6"
  }
 },
 "nbformat": 4,
 "nbformat_minor": 1
}
