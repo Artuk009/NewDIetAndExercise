{
 "cells": [
  {
   "cell_type": "markdown",
   "metadata": {},
   "source": [
    "# Diet Data Editor\n",
    "Author: Brent Artuch <br>\n",
    "Date: 2023-06-04"
   ]
  },
  {
   "cell_type": "markdown",
   "source": [
    "## Introduction"
   ],
   "metadata": {
    "collapsed": false
   }
  },
  {
   "cell_type": "markdown",
   "source": [
    "This notebook depicts the process of adding new food entries to my SQLite database and then takes you\n",
    "through the macronutrient conversion calculations. After the caloric intake based on macro nutrient for\n",
    "the day has been calculated, we then proceed to a few visualizations for those calculations. <br>\n",
    "\n",
    "This document utilizes an array of Pandas processing techniques such as filtering via boolean masking,\n",
    "using descriptive methods to illustrate the shape of the data set, and creating visualizations using the\n",
    "data in the dataframe."
   ],
   "metadata": {
    "collapsed": false
   }
  },
  {
   "cell_type": "markdown",
   "metadata": {},
   "source": [
    "# SQL DATABASE CONSTRUCTION IN PROGRESS!!\n",
    "## Step: 1 Imports\n",
    "### Import packages"
   ]
  },
  {
   "cell_type": "code",
   "execution_count": 9,
   "metadata": {
    "collapsed": true,
    "ExecuteTime": {
     "end_time": "2023-06-30T03:48:21.189628Z",
     "start_time": "2023-06-30T03:48:21.188108Z"
    }
   },
   "outputs": [],
   "source": [
    "import sqlite3\n",
    "import pandas as pd\n",
    "import seaborn as sns"
   ]
  },
  {
   "cell_type": "markdown",
   "source": [
    "### Load the dataset\n",
    "This dataset is pulled from a SQLite database that stores all foods I have consumed by `month_YYYY`. We will\n",
    "load the current month using a simple query."
   ],
   "metadata": {
    "collapsed": false
   }
  },
  {
   "cell_type": "code",
   "execution_count": 10,
   "outputs": [
    {
     "data": {
      "text/plain": "          date          meal           food_name  servings  carbs  fats  \\\nid                                                                        \n60  2023-06-28     Breakfast             Oatmeal         2     32     3   \n61  2023-06-28     Breakfast          Cereal Bar         2     24     3   \n62  2023-06-28     Breakfast      Protein Powder         2      3     2   \n63  2023-06-28         Lunch                Rice         2     45     1   \n64  2023-06-28         Lunch      Protein Powder         2      3     2   \n65  2023-06-28         Lunch              Butter         1      0    11   \n66  2023-06-28        Dinner     Quarter Pounder         2     42    26   \n67  2023-06-28        Dinner     Gatorade Powder         2     22     0   \n68  2023-06-28  Post-Workout  Ice Cream Sandwich         1     26     5   \n69  2023-06-28  Post-Workout      Protein Powder         2      3     2   \n\n    proteins  calories  \nid                      \n60         9       160  \n61         1       130  \n62        24       120  \n63         4       206  \n64        24       120  \n65         0       100  \n66        30       520  \n67         0        80  \n68         2       160  \n69        24       120  ",
      "text/html": "<div>\n<style scoped>\n    .dataframe tbody tr th:only-of-type {\n        vertical-align: middle;\n    }\n\n    .dataframe tbody tr th {\n        vertical-align: top;\n    }\n\n    .dataframe thead th {\n        text-align: right;\n    }\n</style>\n<table border=\"1\" class=\"dataframe\">\n  <thead>\n    <tr style=\"text-align: right;\">\n      <th></th>\n      <th>date</th>\n      <th>meal</th>\n      <th>food_name</th>\n      <th>servings</th>\n      <th>carbs</th>\n      <th>fats</th>\n      <th>proteins</th>\n      <th>calories</th>\n    </tr>\n    <tr>\n      <th>id</th>\n      <th></th>\n      <th></th>\n      <th></th>\n      <th></th>\n      <th></th>\n      <th></th>\n      <th></th>\n      <th></th>\n    </tr>\n  </thead>\n  <tbody>\n    <tr>\n      <th>60</th>\n      <td>2023-06-28</td>\n      <td>Breakfast</td>\n      <td>Oatmeal</td>\n      <td>2</td>\n      <td>32</td>\n      <td>3</td>\n      <td>9</td>\n      <td>160</td>\n    </tr>\n    <tr>\n      <th>61</th>\n      <td>2023-06-28</td>\n      <td>Breakfast</td>\n      <td>Cereal Bar</td>\n      <td>2</td>\n      <td>24</td>\n      <td>3</td>\n      <td>1</td>\n      <td>130</td>\n    </tr>\n    <tr>\n      <th>62</th>\n      <td>2023-06-28</td>\n      <td>Breakfast</td>\n      <td>Protein Powder</td>\n      <td>2</td>\n      <td>3</td>\n      <td>2</td>\n      <td>24</td>\n      <td>120</td>\n    </tr>\n    <tr>\n      <th>63</th>\n      <td>2023-06-28</td>\n      <td>Lunch</td>\n      <td>Rice</td>\n      <td>2</td>\n      <td>45</td>\n      <td>1</td>\n      <td>4</td>\n      <td>206</td>\n    </tr>\n    <tr>\n      <th>64</th>\n      <td>2023-06-28</td>\n      <td>Lunch</td>\n      <td>Protein Powder</td>\n      <td>2</td>\n      <td>3</td>\n      <td>2</td>\n      <td>24</td>\n      <td>120</td>\n    </tr>\n    <tr>\n      <th>65</th>\n      <td>2023-06-28</td>\n      <td>Lunch</td>\n      <td>Butter</td>\n      <td>1</td>\n      <td>0</td>\n      <td>11</td>\n      <td>0</td>\n      <td>100</td>\n    </tr>\n    <tr>\n      <th>66</th>\n      <td>2023-06-28</td>\n      <td>Dinner</td>\n      <td>Quarter Pounder</td>\n      <td>2</td>\n      <td>42</td>\n      <td>26</td>\n      <td>30</td>\n      <td>520</td>\n    </tr>\n    <tr>\n      <th>67</th>\n      <td>2023-06-28</td>\n      <td>Dinner</td>\n      <td>Gatorade Powder</td>\n      <td>2</td>\n      <td>22</td>\n      <td>0</td>\n      <td>0</td>\n      <td>80</td>\n    </tr>\n    <tr>\n      <th>68</th>\n      <td>2023-06-28</td>\n      <td>Post-Workout</td>\n      <td>Ice Cream Sandwich</td>\n      <td>1</td>\n      <td>26</td>\n      <td>5</td>\n      <td>2</td>\n      <td>160</td>\n    </tr>\n    <tr>\n      <th>69</th>\n      <td>2023-06-28</td>\n      <td>Post-Workout</td>\n      <td>Protein Powder</td>\n      <td>2</td>\n      <td>3</td>\n      <td>2</td>\n      <td>24</td>\n      <td>120</td>\n    </tr>\n  </tbody>\n</table>\n</div>"
     },
     "execution_count": 10,
     "metadata": {},
     "output_type": "execute_result"
    }
   ],
   "source": [
    "sql_connection = sqlite3.connect('diet.sqlite')\n",
    "# Import the desired table and set the index.\n",
    "current_foods = pd.read_sql(\n",
    "    '''\n",
    "    SELECT f.id, d.date, m.meal, f.food_name, f.servings, f.carbs, f.fats, f.proteins, f.calories\n",
    "    FROM meals m\n",
    "    INNER JOIN foods f on f.meal_id = m.id\n",
    "    INNER JOIN dates_2023 d on d.id = m.date_id\n",
    "    ORDER BY f.id\n",
    "    ''',\n",
    "    sql_connection, index_col='id')\n",
    "\n",
    "current_foods.tail(10)"
   ],
   "metadata": {
    "collapsed": false,
    "ExecuteTime": {
     "end_time": "2023-06-30T03:48:23.358728Z",
     "start_time": "2023-06-30T03:48:23.352488Z"
    }
   }
  },
  {
   "cell_type": "markdown",
   "source": [
    "## Step 2: Data Exploration\n",
    "Next we will get a sense of the size and contents of `current_foods`."
   ],
   "metadata": {
    "collapsed": false
   }
  },
  {
   "cell_type": "code",
   "execution_count": 11,
   "outputs": [
    {
     "data": {
      "text/plain": "(69, 8)"
     },
     "execution_count": 11,
     "metadata": {},
     "output_type": "execute_result"
    }
   ],
   "source": [
    "current_foods.shape"
   ],
   "metadata": {
    "collapsed": false,
    "ExecuteTime": {
     "end_time": "2023-06-30T03:48:31.296623Z",
     "start_time": "2023-06-30T03:48:31.291777Z"
    }
   }
  },
  {
   "cell_type": "code",
   "execution_count": 12,
   "outputs": [
    {
     "name": "stdout",
     "output_type": "stream",
     "text": [
      "<class 'pandas.core.frame.DataFrame'>\n",
      "Int64Index: 69 entries, 1 to 69\n",
      "Data columns (total 8 columns):\n",
      " #   Column     Non-Null Count  Dtype \n",
      "---  ------     --------------  ----- \n",
      " 0   date       69 non-null     object\n",
      " 1   meal       69 non-null     object\n",
      " 2   food_name  69 non-null     object\n",
      " 3   servings   69 non-null     int64 \n",
      " 4   carbs      69 non-null     int64 \n",
      " 5   fats       69 non-null     int64 \n",
      " 6   proteins   69 non-null     int64 \n",
      " 7   calories   69 non-null     int64 \n",
      "dtypes: int64(5), object(3)\n",
      "memory usage: 4.9+ KB\n"
     ]
    }
   ],
   "source": [
    "current_foods.info()"
   ],
   "metadata": {
    "collapsed": false,
    "ExecuteTime": {
     "end_time": "2023-06-30T03:48:33.534658Z",
     "start_time": "2023-06-30T03:48:33.530072Z"
    }
   }
  },
  {
   "cell_type": "code",
   "execution_count": 13,
   "outputs": [
    {
     "data": {
      "text/plain": "           carbs       fats   proteins    calories\ncount  69.000000  69.000000  69.000000   69.000000\nmean   20.000000   6.463768  10.086957  176.246377\nstd    18.702784   8.218665  13.798699  131.508265\nmin     0.000000   0.000000   0.000000   70.000000\n25%     3.000000   2.000000   1.000000   90.000000\n50%    17.000000   3.000000   4.000000  120.000000\n75%    39.000000   9.000000  24.000000  206.000000\nmax    74.000000  41.000000  88.000000  720.000000",
      "text/html": "<div>\n<style scoped>\n    .dataframe tbody tr th:only-of-type {\n        vertical-align: middle;\n    }\n\n    .dataframe tbody tr th {\n        vertical-align: top;\n    }\n\n    .dataframe thead th {\n        text-align: right;\n    }\n</style>\n<table border=\"1\" class=\"dataframe\">\n  <thead>\n    <tr style=\"text-align: right;\">\n      <th></th>\n      <th>carbs</th>\n      <th>fats</th>\n      <th>proteins</th>\n      <th>calories</th>\n    </tr>\n  </thead>\n  <tbody>\n    <tr>\n      <th>count</th>\n      <td>69.000000</td>\n      <td>69.000000</td>\n      <td>69.000000</td>\n      <td>69.000000</td>\n    </tr>\n    <tr>\n      <th>mean</th>\n      <td>20.000000</td>\n      <td>6.463768</td>\n      <td>10.086957</td>\n      <td>176.246377</td>\n    </tr>\n    <tr>\n      <th>std</th>\n      <td>18.702784</td>\n      <td>8.218665</td>\n      <td>13.798699</td>\n      <td>131.508265</td>\n    </tr>\n    <tr>\n      <th>min</th>\n      <td>0.000000</td>\n      <td>0.000000</td>\n      <td>0.000000</td>\n      <td>70.000000</td>\n    </tr>\n    <tr>\n      <th>25%</th>\n      <td>3.000000</td>\n      <td>2.000000</td>\n      <td>1.000000</td>\n      <td>90.000000</td>\n    </tr>\n    <tr>\n      <th>50%</th>\n      <td>17.000000</td>\n      <td>3.000000</td>\n      <td>4.000000</td>\n      <td>120.000000</td>\n    </tr>\n    <tr>\n      <th>75%</th>\n      <td>39.000000</td>\n      <td>9.000000</td>\n      <td>24.000000</td>\n      <td>206.000000</td>\n    </tr>\n    <tr>\n      <th>max</th>\n      <td>74.000000</td>\n      <td>41.000000</td>\n      <td>88.000000</td>\n      <td>720.000000</td>\n    </tr>\n  </tbody>\n</table>\n</div>"
     },
     "execution_count": 13,
     "metadata": {},
     "output_type": "execute_result"
    }
   ],
   "source": [
    "current_foods[['carbs','fats','proteins','calories']].describe()"
   ],
   "metadata": {
    "collapsed": false,
    "ExecuteTime": {
     "end_time": "2023-06-30T03:48:36.096030Z",
     "start_time": "2023-06-30T03:48:36.089178Z"
    }
   }
  },
  {
   "cell_type": "code",
   "execution_count": 14,
   "outputs": [
    {
     "data": {
      "text/plain": "Protein Powder    15\nRice               9\nSpicy Garlic       8\nFruit Snacks       5\nCereal Bar         4\nName: food_name, dtype: int64"
     },
     "execution_count": 14,
     "metadata": {},
     "output_type": "execute_result"
    }
   ],
   "source": [
    "current_foods['food_name'].value_counts().head()"
   ],
   "metadata": {
    "collapsed": false,
    "ExecuteTime": {
     "end_time": "2023-06-30T03:48:38.362963Z",
     "start_time": "2023-06-30T03:48:38.358505Z"
    }
   }
  },
  {
   "cell_type": "markdown",
   "metadata": {},
   "source": [
    "## Step 3: Update the Dataset\n",
    "### Load the master food list\n",
    "First we will load the names of the foods from the master `food_list` database so that the algorithm\n",
    "can check against the list for whether the food reference exists."
   ]
  },
  {
   "cell_type": "code",
   "execution_count": 15,
   "outputs": [
    {
     "data": {
      "text/plain": "        food_name\n0         Oatmeal\n1  Protein Powder\n2     Coco Powder\n3           Ramen\n4      Cereal Bar",
      "text/html": "<div>\n<style scoped>\n    .dataframe tbody tr th:only-of-type {\n        vertical-align: middle;\n    }\n\n    .dataframe tbody tr th {\n        vertical-align: top;\n    }\n\n    .dataframe thead th {\n        text-align: right;\n    }\n</style>\n<table border=\"1\" class=\"dataframe\">\n  <thead>\n    <tr style=\"text-align: right;\">\n      <th></th>\n      <th>food_name</th>\n    </tr>\n  </thead>\n  <tbody>\n    <tr>\n      <th>0</th>\n      <td>Oatmeal</td>\n    </tr>\n    <tr>\n      <th>1</th>\n      <td>Protein Powder</td>\n    </tr>\n    <tr>\n      <th>2</th>\n      <td>Coco Powder</td>\n    </tr>\n    <tr>\n      <th>3</th>\n      <td>Ramen</td>\n    </tr>\n    <tr>\n      <th>4</th>\n      <td>Cereal Bar</td>\n    </tr>\n  </tbody>\n</table>\n</div>"
     },
     "execution_count": 15,
     "metadata": {},
     "output_type": "execute_result"
    }
   ],
   "source": [
    "# Call the primary food list.\n",
    "food_db = pd.read_sql('SELECT food_name FROM food_list', sql_connection)\n",
    "food_db.head()"
   ],
   "metadata": {
    "collapsed": false,
    "ExecuteTime": {
     "end_time": "2023-06-30T03:48:41.201867Z",
     "start_time": "2023-06-30T03:48:41.197223Z"
    }
   }
  },
  {
   "cell_type": "markdown",
   "source": [
    "### Set the date of the entries"
   ],
   "metadata": {
    "collapsed": false
   }
  },
  {
   "cell_type": "code",
   "execution_count": 16,
   "outputs": [
    {
     "data": {
      "text/plain": "          date\nid            \n2   2023-06-21\n3   2023-06-23\n4   2023-06-26\n5   2023-06-27\n6   2023-06-28",
      "text/html": "<div>\n<style scoped>\n    .dataframe tbody tr th:only-of-type {\n        vertical-align: middle;\n    }\n\n    .dataframe tbody tr th {\n        vertical-align: top;\n    }\n\n    .dataframe thead th {\n        text-align: right;\n    }\n</style>\n<table border=\"1\" class=\"dataframe\">\n  <thead>\n    <tr style=\"text-align: right;\">\n      <th></th>\n      <th>date</th>\n    </tr>\n    <tr>\n      <th>id</th>\n      <th></th>\n    </tr>\n  </thead>\n  <tbody>\n    <tr>\n      <th>2</th>\n      <td>2023-06-21</td>\n    </tr>\n    <tr>\n      <th>3</th>\n      <td>2023-06-23</td>\n    </tr>\n    <tr>\n      <th>4</th>\n      <td>2023-06-26</td>\n    </tr>\n    <tr>\n      <th>5</th>\n      <td>2023-06-27</td>\n    </tr>\n    <tr>\n      <th>6</th>\n      <td>2023-06-28</td>\n    </tr>\n  </tbody>\n</table>\n</div>"
     },
     "execution_count": 16,
     "metadata": {},
     "output_type": "execute_result"
    }
   ],
   "source": [
    "dates_df = pd.read_sql('SELECT * FROM dates_2023', sql_connection, index_col='id')\n",
    "dates_df.tail()"
   ],
   "metadata": {
    "collapsed": false,
    "ExecuteTime": {
     "end_time": "2023-06-30T03:48:43.662663Z",
     "start_time": "2023-06-30T03:48:43.658954Z"
    }
   }
  },
  {
   "cell_type": "code",
   "execution_count": 19,
   "outputs": [
    {
     "data": {
      "text/plain": "'2023-06-29'"
     },
     "execution_count": 19,
     "metadata": {},
     "output_type": "execute_result"
    }
   ],
   "source": [
    "# Get the date to be added to the dates_2023 table\n",
    "import datetime\n",
    "\n",
    "# Autogenerate the year and month\n",
    "year_month = datetime.datetime.now().strftime(\"%Y-%m\")\n",
    "day_of_month = input(\"Enter the day of the month: DD\")\n",
    "date = f\"2023-06-{day_of_month}\"\n",
    "date"
   ],
   "metadata": {
    "collapsed": false,
    "ExecuteTime": {
     "end_time": "2023-06-30T03:51:57.340068Z",
     "start_time": "2023-06-30T03:51:54.262618Z"
    }
   }
  },
  {
   "cell_type": "code",
   "execution_count": 20,
   "outputs": [
    {
     "data": {
      "text/plain": "          date\nid            \n3   2023-06-23\n4   2023-06-26\n5   2023-06-27\n6   2023-06-28\n7   2023-06-29",
      "text/html": "<div>\n<style scoped>\n    .dataframe tbody tr th:only-of-type {\n        vertical-align: middle;\n    }\n\n    .dataframe tbody tr th {\n        vertical-align: top;\n    }\n\n    .dataframe thead th {\n        text-align: right;\n    }\n</style>\n<table border=\"1\" class=\"dataframe\">\n  <thead>\n    <tr style=\"text-align: right;\">\n      <th></th>\n      <th>date</th>\n    </tr>\n    <tr>\n      <th>id</th>\n      <th></th>\n    </tr>\n  </thead>\n  <tbody>\n    <tr>\n      <th>3</th>\n      <td>2023-06-23</td>\n    </tr>\n    <tr>\n      <th>4</th>\n      <td>2023-06-26</td>\n    </tr>\n    <tr>\n      <th>5</th>\n      <td>2023-06-27</td>\n    </tr>\n    <tr>\n      <th>6</th>\n      <td>2023-06-28</td>\n    </tr>\n    <tr>\n      <th>7</th>\n      <td>2023-06-29</td>\n    </tr>\n  </tbody>\n</table>\n</div>"
     },
     "execution_count": 20,
     "metadata": {},
     "output_type": "execute_result"
    }
   ],
   "source": [
    "# add date to dates_2023 table\n",
    "dates_df.loc[len(dates_df)+1, 'date'] = date\n",
    "dates_df.tail()"
   ],
   "metadata": {
    "collapsed": false,
    "ExecuteTime": {
     "end_time": "2023-06-30T03:52:07.173502Z",
     "start_time": "2023-06-30T03:52:07.170346Z"
    }
   }
  },
  {
   "cell_type": "code",
   "execution_count": 21,
   "outputs": [
    {
     "data": {
      "text/plain": "7"
     },
     "execution_count": 21,
     "metadata": {},
     "output_type": "execute_result"
    }
   ],
   "source": [
    "dates_df.to_sql('dates_2023', sql_connection, if_exists='replace')"
   ],
   "metadata": {
    "collapsed": false,
    "ExecuteTime": {
     "end_time": "2023-06-30T03:52:11.009081Z",
     "start_time": "2023-06-30T03:52:11.000702Z"
    }
   }
  },
  {
   "cell_type": "code",
   "execution_count": 15,
   "outputs": [
    {
     "data": {
      "text/plain": "    date_id          meal\nid                       \n20        5  Post-Workout\n21        6     Breakfast\n22        6         Lunch\n23        6        Dinner\n24        6  Post-Workout",
      "text/html": "<div>\n<style scoped>\n    .dataframe tbody tr th:only-of-type {\n        vertical-align: middle;\n    }\n\n    .dataframe tbody tr th {\n        vertical-align: top;\n    }\n\n    .dataframe thead th {\n        text-align: right;\n    }\n</style>\n<table border=\"1\" class=\"dataframe\">\n  <thead>\n    <tr style=\"text-align: right;\">\n      <th></th>\n      <th>date_id</th>\n      <th>meal</th>\n    </tr>\n    <tr>\n      <th>id</th>\n      <th></th>\n      <th></th>\n    </tr>\n  </thead>\n  <tbody>\n    <tr>\n      <th>20</th>\n      <td>5</td>\n      <td>Post-Workout</td>\n    </tr>\n    <tr>\n      <th>21</th>\n      <td>6</td>\n      <td>Breakfast</td>\n    </tr>\n    <tr>\n      <th>22</th>\n      <td>6</td>\n      <td>Lunch</td>\n    </tr>\n    <tr>\n      <th>23</th>\n      <td>6</td>\n      <td>Dinner</td>\n    </tr>\n    <tr>\n      <th>24</th>\n      <td>6</td>\n      <td>Post-Workout</td>\n    </tr>\n  </tbody>\n</table>\n</div>"
     },
     "execution_count": 15,
     "metadata": {},
     "output_type": "execute_result"
    }
   ],
   "source": [
    "meals_df = pd.read_sql('SELECT * FROM meals', sql_connection, index_col='id')\n",
    "meals_df.tail()"
   ],
   "metadata": {
    "collapsed": false,
    "ExecuteTime": {
     "end_time": "2023-06-30T03:31:41.124887Z",
     "start_time": "2023-06-30T03:31:41.118047Z"
    }
   }
  },
  {
   "cell_type": "code",
   "execution_count": 16,
   "outputs": [
    {
     "data": {
      "text/plain": "'Breakfast'"
     },
     "execution_count": 16,
     "metadata": {},
     "output_type": "execute_result"
    }
   ],
   "source": [
    "meal_of_day = input(\"Enter the meal of the day: [1]Breakfast [2]Lunch [3]Dinner [4]Post-Workout\")\n",
    "meal = ''\n",
    "if meal_of_day == '1':\n",
    "    meal = 'Breakfast'\n",
    "elif meal_of_day == '2':\n",
    "    meal = 'Lunch'\n",
    "elif meal_of_day == '3':\n",
    "    meal = 'Dinner'\n",
    "elif meal_of_day == '4':\n",
    "    meal = 'Post-Workout'\n",
    "meal"
   ],
   "metadata": {
    "collapsed": false,
    "ExecuteTime": {
     "end_time": "2023-06-30T03:31:44.516176Z",
     "start_time": "2023-06-30T03:31:43.177455Z"
    }
   }
  },
  {
   "cell_type": "code",
   "execution_count": 17,
   "outputs": [
    {
     "data": {
      "text/plain": "    date_id          meal\nid                       \n21        6     Breakfast\n22        6         Lunch\n23        6        Dinner\n24        6  Post-Workout\n25        7     Breakfast",
      "text/html": "<div>\n<style scoped>\n    .dataframe tbody tr th:only-of-type {\n        vertical-align: middle;\n    }\n\n    .dataframe tbody tr th {\n        vertical-align: top;\n    }\n\n    .dataframe thead th {\n        text-align: right;\n    }\n</style>\n<table border=\"1\" class=\"dataframe\">\n  <thead>\n    <tr style=\"text-align: right;\">\n      <th></th>\n      <th>date_id</th>\n      <th>meal</th>\n    </tr>\n    <tr>\n      <th>id</th>\n      <th></th>\n      <th></th>\n    </tr>\n  </thead>\n  <tbody>\n    <tr>\n      <th>21</th>\n      <td>6</td>\n      <td>Breakfast</td>\n    </tr>\n    <tr>\n      <th>22</th>\n      <td>6</td>\n      <td>Lunch</td>\n    </tr>\n    <tr>\n      <th>23</th>\n      <td>6</td>\n      <td>Dinner</td>\n    </tr>\n    <tr>\n      <th>24</th>\n      <td>6</td>\n      <td>Post-Workout</td>\n    </tr>\n    <tr>\n      <th>25</th>\n      <td>7</td>\n      <td>Breakfast</td>\n    </tr>\n  </tbody>\n</table>\n</div>"
     },
     "execution_count": 17,
     "metadata": {},
     "output_type": "execute_result"
    }
   ],
   "source": [
    "# If the meal is breakfast increment the date_id by 1, otherwise it is the same date_id\n",
    "if meal is 'Breakfast':\n",
    "    meals_df.loc[len(meals_df)+1, 'meal'] = meal\n",
    "else:\n",
    "    meals_df.loc[len(meals_df)+1, 'meal'] = meal\n",
    "meals_df.loc[len(meals_df), 'date_id'] = len(dates_df)\n",
    "meals_df.tail()"
   ],
   "metadata": {
    "collapsed": false,
    "ExecuteTime": {
     "end_time": "2023-06-30T03:31:46.568585Z",
     "start_time": "2023-06-30T03:31:46.563676Z"
    }
   }
  },
  {
   "cell_type": "markdown",
   "source": [
    "### Execute the entry insertion algorithm"
   ],
   "metadata": {
    "collapsed": false
   }
  },
  {
   "cell_type": "code",
   "execution_count": 50,
   "metadata": {
    "ExecuteTime": {
     "end_time": "2023-06-29T06:35:46.806187Z",
     "start_time": "2023-06-29T06:35:46.796852Z"
    }
   },
   "outputs": [
    {
     "data": {
      "text/plain": "    meal_id           food_name  servings  carbs  fats  proteins  calories\nid                                                                        \n60       21             Oatmeal         2     32     3         9       160\n61       21          Cereal Bar         2     24     3         1       130\n62       21      Protein Powder         2      3     2        24       120\n63       22                Rice         2     45     1         4       206\n64       22      Protein Powder         2      3     2        24       120\n65       22              Butter         1      0    11         0       100\n66       23     Quarter Pounder         2     42    26        30       520\n67       23     Gatorade Powder         2     22     0         0        80\n68       24  Ice Cream Sandwich         1     26     5         2       160\n69       24      Protein Powder         2      3     2        24       120",
      "text/html": "<div>\n<style scoped>\n    .dataframe tbody tr th:only-of-type {\n        vertical-align: middle;\n    }\n\n    .dataframe tbody tr th {\n        vertical-align: top;\n    }\n\n    .dataframe thead th {\n        text-align: right;\n    }\n</style>\n<table border=\"1\" class=\"dataframe\">\n  <thead>\n    <tr style=\"text-align: right;\">\n      <th></th>\n      <th>meal_id</th>\n      <th>food_name</th>\n      <th>servings</th>\n      <th>carbs</th>\n      <th>fats</th>\n      <th>proteins</th>\n      <th>calories</th>\n    </tr>\n    <tr>\n      <th>id</th>\n      <th></th>\n      <th></th>\n      <th></th>\n      <th></th>\n      <th></th>\n      <th></th>\n      <th></th>\n    </tr>\n  </thead>\n  <tbody>\n    <tr>\n      <th>60</th>\n      <td>21</td>\n      <td>Oatmeal</td>\n      <td>2</td>\n      <td>32</td>\n      <td>3</td>\n      <td>9</td>\n      <td>160</td>\n    </tr>\n    <tr>\n      <th>61</th>\n      <td>21</td>\n      <td>Cereal Bar</td>\n      <td>2</td>\n      <td>24</td>\n      <td>3</td>\n      <td>1</td>\n      <td>130</td>\n    </tr>\n    <tr>\n      <th>62</th>\n      <td>21</td>\n      <td>Protein Powder</td>\n      <td>2</td>\n      <td>3</td>\n      <td>2</td>\n      <td>24</td>\n      <td>120</td>\n    </tr>\n    <tr>\n      <th>63</th>\n      <td>22</td>\n      <td>Rice</td>\n      <td>2</td>\n      <td>45</td>\n      <td>1</td>\n      <td>4</td>\n      <td>206</td>\n    </tr>\n    <tr>\n      <th>64</th>\n      <td>22</td>\n      <td>Protein Powder</td>\n      <td>2</td>\n      <td>3</td>\n      <td>2</td>\n      <td>24</td>\n      <td>120</td>\n    </tr>\n    <tr>\n      <th>65</th>\n      <td>22</td>\n      <td>Butter</td>\n      <td>1</td>\n      <td>0</td>\n      <td>11</td>\n      <td>0</td>\n      <td>100</td>\n    </tr>\n    <tr>\n      <th>66</th>\n      <td>23</td>\n      <td>Quarter Pounder</td>\n      <td>2</td>\n      <td>42</td>\n      <td>26</td>\n      <td>30</td>\n      <td>520</td>\n    </tr>\n    <tr>\n      <th>67</th>\n      <td>23</td>\n      <td>Gatorade Powder</td>\n      <td>2</td>\n      <td>22</td>\n      <td>0</td>\n      <td>0</td>\n      <td>80</td>\n    </tr>\n    <tr>\n      <th>68</th>\n      <td>24</td>\n      <td>Ice Cream Sandwich</td>\n      <td>1</td>\n      <td>26</td>\n      <td>5</td>\n      <td>2</td>\n      <td>160</td>\n    </tr>\n    <tr>\n      <th>69</th>\n      <td>24</td>\n      <td>Protein Powder</td>\n      <td>2</td>\n      <td>3</td>\n      <td>2</td>\n      <td>24</td>\n      <td>120</td>\n    </tr>\n  </tbody>\n</table>\n</div>"
     },
     "execution_count": 50,
     "metadata": {},
     "output_type": "execute_result"
    }
   ],
   "source": [
    "# TODO: Update the insertion algorithm to utilize the new SQL architecture\n",
    "# Set the current meal number to be logged\n",
    "choice = 1\n",
    "foods = list(food_db['food_name'])\n",
    "\n",
    "while choice != 2:\n",
    "\n",
    "    \"\"\" This algorithm takes a desired food input and then inserts it into a SQL query to\n",
    "    retrieve the nutritional info for that food. The meal number and serving count are\n",
    "     updated and then the entry is inserted into the dataframe. \"\"\"\n",
    "\n",
    "    db_food = input(\"What food would you like too add?\")\n",
    "    if db_food not in foods:\n",
    "        raise Exception(input(\"Food not in database. Try again: \"))\n",
    "    new_food = pd.read_sql(\"SELECT food_name, carbs, fats, protein, calories\"\n",
    "                            \" FROM food_list \"\n",
    "                            \" WHERE food_name = (?)\", sql_connection, params=(db_food,))\n",
    "    meal_number = int(input(\"Enter Meal Number: \"))\n",
    "    servings = float(input(\"Enter Serving Count: \"))\n",
    "    f_id = current_foods.iloc[-1, 0] + 1\n",
    "    new_entry = [f_id,\n",
    "                 date,\n",
    "                 meal_number,\n",
    "                 new_food.loc[0,'food_name'],\n",
    "                 servings,\n",
    "                 new_food.loc[0,'carbs'],\n",
    "                 new_food.loc[0,'fats'],\n",
    "                 new_food.loc[0,'protein'],\n",
    "                 new_food.loc[0,'calories']]\n",
    "    current_foods.loc[len(current_foods)] = new_entry\n",
    "    choice = int(input(\"Add another? [1]Yes [2]No\"))\n",
    "\n",
    "current_foods['date'] = pd.to_datetime(current_foods['date'])\n",
    "updated_foods = current_foods\n",
    "updated_foods.tail(10)"
   ]
  },
  {
   "cell_type": "markdown",
   "metadata": {
    "ExecuteTime": {
     "end_time": "2023-06-29T06:45:41.029477Z",
     "start_time": "2023-06-29T06:45:32.481629Z"
    }
   },
   "source": [
    "### Data Manipulation\n",
    "This section exists for convenience if quick changes need to be made to the entries."
   ],
   "outputs": [
    {
     "data": {
      "text/plain": "    meal_id           food_name  servings  carbs  fats  proteins  calories\nid                                                                        \n62       21      Protein Powder       2.0      3     2        24       120\n63       22                Rice       2.0     45     1         4       206\n64       22      Protein Powder       2.0      3     2        24       120\n65       22              Butter       1.0      0    11         0       100\n66       23     Quarter Pounder       2.0     42    26        30       520\n67       23     Gatorade Powder       2.0     22     0         0        80\n68       24  Ice Cream Sandwich       1.0     26     5         2       160\n69       24      Protein Powder       2.0      3     2        24       120\n70       26      Protein Powder       2.0      3     2        24       120\n71       26                Rice       1.0     45     1         4       206",
      "text/html": "<div>\n<style scoped>\n    .dataframe tbody tr th:only-of-type {\n        vertical-align: middle;\n    }\n\n    .dataframe tbody tr th {\n        vertical-align: top;\n    }\n\n    .dataframe thead th {\n        text-align: right;\n    }\n</style>\n<table border=\"1\" class=\"dataframe\">\n  <thead>\n    <tr style=\"text-align: right;\">\n      <th></th>\n      <th>meal_id</th>\n      <th>food_name</th>\n      <th>servings</th>\n      <th>carbs</th>\n      <th>fats</th>\n      <th>proteins</th>\n      <th>calories</th>\n    </tr>\n    <tr>\n      <th>id</th>\n      <th></th>\n      <th></th>\n      <th></th>\n      <th></th>\n      <th></th>\n      <th></th>\n      <th></th>\n    </tr>\n  </thead>\n  <tbody>\n    <tr>\n      <th>62</th>\n      <td>21</td>\n      <td>Protein Powder</td>\n      <td>2.0</td>\n      <td>3</td>\n      <td>2</td>\n      <td>24</td>\n      <td>120</td>\n    </tr>\n    <tr>\n      <th>63</th>\n      <td>22</td>\n      <td>Rice</td>\n      <td>2.0</td>\n      <td>45</td>\n      <td>1</td>\n      <td>4</td>\n      <td>206</td>\n    </tr>\n    <tr>\n      <th>64</th>\n      <td>22</td>\n      <td>Protein Powder</td>\n      <td>2.0</td>\n      <td>3</td>\n      <td>2</td>\n      <td>24</td>\n      <td>120</td>\n    </tr>\n    <tr>\n      <th>65</th>\n      <td>22</td>\n      <td>Butter</td>\n      <td>1.0</td>\n      <td>0</td>\n      <td>11</td>\n      <td>0</td>\n      <td>100</td>\n    </tr>\n    <tr>\n      <th>66</th>\n      <td>23</td>\n      <td>Quarter Pounder</td>\n      <td>2.0</td>\n      <td>42</td>\n      <td>26</td>\n      <td>30</td>\n      <td>520</td>\n    </tr>\n    <tr>\n      <th>67</th>\n      <td>23</td>\n      <td>Gatorade Powder</td>\n      <td>2.0</td>\n      <td>22</td>\n      <td>0</td>\n      <td>0</td>\n      <td>80</td>\n    </tr>\n    <tr>\n      <th>68</th>\n      <td>24</td>\n      <td>Ice Cream Sandwich</td>\n      <td>1.0</td>\n      <td>26</td>\n      <td>5</td>\n      <td>2</td>\n      <td>160</td>\n    </tr>\n    <tr>\n      <th>69</th>\n      <td>24</td>\n      <td>Protein Powder</td>\n      <td>2.0</td>\n      <td>3</td>\n      <td>2</td>\n      <td>24</td>\n      <td>120</td>\n    </tr>\n    <tr>\n      <th>70</th>\n      <td>26</td>\n      <td>Protein Powder</td>\n      <td>2.0</td>\n      <td>3</td>\n      <td>2</td>\n      <td>24</td>\n      <td>120</td>\n    </tr>\n    <tr>\n      <th>71</th>\n      <td>26</td>\n      <td>Rice</td>\n      <td>1.0</td>\n      <td>45</td>\n      <td>1</td>\n      <td>4</td>\n      <td>206</td>\n    </tr>\n  </tbody>\n</table>\n</div>"
     },
     "execution_count": 56,
     "metadata": {},
     "output_type": "execute_result"
    }
   ],
   "execution_count": 56
  },
  {
   "cell_type": "code",
   "execution_count": 13,
   "metadata": {
    "ExecuteTime": {
     "end_time": "2023-06-23T22:57:43.007937Z",
     "start_time": "2023-06-23T22:57:43.002104Z"
    }
   },
   "outputs": [
    {
     "data": {
      "text/plain": "       food_id       date  meal_number             food_name  servings  carbs  \\\nindex                                                                           \n198    1000432 2023-06-23            1        Protein Powder       2.0    3.0   \n199    1000433 2023-06-23            1             Chips 1oz       1.0   15.0   \n200    1000434 2023-06-23            2  10 Traditional Wings       1.0    0.0   \n201    1000435 2023-06-23            2       Wendys Jr Fries       1.0   28.0   \n202    1000436 2023-06-23            2                 Ranch       1.0    1.0   \n\n       fats  protein  calories  \nindex                           \n198     2.0       24       120  \n199    10.0        2       160  \n200    41.0       88       720  \n201     9.0        3       210  \n202    23.0        1       210  ",
      "text/html": "<div>\n<style scoped>\n    .dataframe tbody tr th:only-of-type {\n        vertical-align: middle;\n    }\n\n    .dataframe tbody tr th {\n        vertical-align: top;\n    }\n\n    .dataframe thead th {\n        text-align: right;\n    }\n</style>\n<table border=\"1\" class=\"dataframe\">\n  <thead>\n    <tr style=\"text-align: right;\">\n      <th></th>\n      <th>food_id</th>\n      <th>date</th>\n      <th>meal_number</th>\n      <th>food_name</th>\n      <th>servings</th>\n      <th>carbs</th>\n      <th>fats</th>\n      <th>protein</th>\n      <th>calories</th>\n    </tr>\n    <tr>\n      <th>index</th>\n      <th></th>\n      <th></th>\n      <th></th>\n      <th></th>\n      <th></th>\n      <th></th>\n      <th></th>\n      <th></th>\n      <th></th>\n    </tr>\n  </thead>\n  <tbody>\n    <tr>\n      <th>198</th>\n      <td>1000432</td>\n      <td>2023-06-23</td>\n      <td>1</td>\n      <td>Protein Powder</td>\n      <td>2.0</td>\n      <td>3.0</td>\n      <td>2.0</td>\n      <td>24</td>\n      <td>120</td>\n    </tr>\n    <tr>\n      <th>199</th>\n      <td>1000433</td>\n      <td>2023-06-23</td>\n      <td>1</td>\n      <td>Chips 1oz</td>\n      <td>1.0</td>\n      <td>15.0</td>\n      <td>10.0</td>\n      <td>2</td>\n      <td>160</td>\n    </tr>\n    <tr>\n      <th>200</th>\n      <td>1000434</td>\n      <td>2023-06-23</td>\n      <td>2</td>\n      <td>10 Traditional Wings</td>\n      <td>1.0</td>\n      <td>0.0</td>\n      <td>41.0</td>\n      <td>88</td>\n      <td>720</td>\n    </tr>\n    <tr>\n      <th>201</th>\n      <td>1000435</td>\n      <td>2023-06-23</td>\n      <td>2</td>\n      <td>Wendys Jr Fries</td>\n      <td>1.0</td>\n      <td>28.0</td>\n      <td>9.0</td>\n      <td>3</td>\n      <td>210</td>\n    </tr>\n    <tr>\n      <th>202</th>\n      <td>1000436</td>\n      <td>2023-06-23</td>\n      <td>2</td>\n      <td>Ranch</td>\n      <td>1.0</td>\n      <td>1.0</td>\n      <td>23.0</td>\n      <td>1</td>\n      <td>210</td>\n    </tr>\n  </tbody>\n</table>\n</div>"
     },
     "execution_count": 13,
     "metadata": {},
     "output_type": "execute_result"
    }
   ],
   "source": [
    "# Update item(s) by index and column\n",
    "# current_foods.loc[158,'servings'] = 2.0\n",
    "# Drop operation\n",
    "# current_foods.drop(index=current_foods.index[-1], axis=0, inplace=True) # Remove last entry\n",
    "updated_foods.tail()"
   ]
  },
  {
   "cell_type": "markdown",
   "metadata": {
    "ExecuteTime": {
     "end_time": "2023-05-31T03:51:24.643833Z",
     "start_time": "2023-05-31T03:51:24.629632Z"
    }
   },
   "source": [
    "## Step 4: Daily Macro Calculations\n",
    "### Filter out all entries besides those with today's date."
   ],
   "outputs": [
    {
     "data": {
      "text/plain": "221"
     },
     "execution_count": 5,
     "metadata": {},
     "output_type": "execute_result"
    }
   ],
   "execution_count": 5
  },
  {
   "cell_type": "code",
   "execution_count": 10,
   "metadata": {
    "ExecuteTime": {
     "end_time": "2023-06-24T05:06:53.970240Z",
     "start_time": "2023-06-24T05:06:53.959436Z"
    }
   },
   "outputs": [
    {
     "data": {
      "text/plain": "       food_id       date  meal_number             food_name  servings  carbs  \\\nindex                                                                           \n197    1000431 2023-06-23            1                 Ramen       1.0   54.0   \n198    1000432 2023-06-23            1        Protein Powder       2.0    3.0   \n199    1000433 2023-06-23            1             Chips 1oz       1.0   15.0   \n200    1000434 2023-06-23            2  10 Traditional Wings       1.0    0.0   \n201    1000435 2023-06-23            2       Wendys Jr Fries       1.0   28.0   \n202    1000436 2023-06-23            2                 Ranch       1.0    1.0   \n203    1000437 2023-06-23            3                  Rice       1.0   45.0   \n204    1000438 2023-06-23            3          Spicy Garlic       1.0    3.0   \n205    1000439 2023-06-23            3          Fruit Snacks       1.0   17.0   \n206    1000440 2023-06-23            3        Protein Powder       2.0    3.0   \n\n       fats  protein  calories  \nindex                           \n197    14.0        8       370  \n198     2.0       24       120  \n199    10.0        2       160  \n200    41.0       88       720  \n201     9.0        3       210  \n202    23.0        1       210  \n203     1.0        4       206  \n204     6.0        1        70  \n205     0.0        1        70  \n206     2.0       24       120  ",
      "text/html": "<div>\n<style scoped>\n    .dataframe tbody tr th:only-of-type {\n        vertical-align: middle;\n    }\n\n    .dataframe tbody tr th {\n        vertical-align: top;\n    }\n\n    .dataframe thead th {\n        text-align: right;\n    }\n</style>\n<table border=\"1\" class=\"dataframe\">\n  <thead>\n    <tr style=\"text-align: right;\">\n      <th></th>\n      <th>food_id</th>\n      <th>date</th>\n      <th>meal_number</th>\n      <th>food_name</th>\n      <th>servings</th>\n      <th>carbs</th>\n      <th>fats</th>\n      <th>protein</th>\n      <th>calories</th>\n    </tr>\n    <tr>\n      <th>index</th>\n      <th></th>\n      <th></th>\n      <th></th>\n      <th></th>\n      <th></th>\n      <th></th>\n      <th></th>\n      <th></th>\n      <th></th>\n    </tr>\n  </thead>\n  <tbody>\n    <tr>\n      <th>197</th>\n      <td>1000431</td>\n      <td>2023-06-23</td>\n      <td>1</td>\n      <td>Ramen</td>\n      <td>1.0</td>\n      <td>54.0</td>\n      <td>14.0</td>\n      <td>8</td>\n      <td>370</td>\n    </tr>\n    <tr>\n      <th>198</th>\n      <td>1000432</td>\n      <td>2023-06-23</td>\n      <td>1</td>\n      <td>Protein Powder</td>\n      <td>2.0</td>\n      <td>3.0</td>\n      <td>2.0</td>\n      <td>24</td>\n      <td>120</td>\n    </tr>\n    <tr>\n      <th>199</th>\n      <td>1000433</td>\n      <td>2023-06-23</td>\n      <td>1</td>\n      <td>Chips 1oz</td>\n      <td>1.0</td>\n      <td>15.0</td>\n      <td>10.0</td>\n      <td>2</td>\n      <td>160</td>\n    </tr>\n    <tr>\n      <th>200</th>\n      <td>1000434</td>\n      <td>2023-06-23</td>\n      <td>2</td>\n      <td>10 Traditional Wings</td>\n      <td>1.0</td>\n      <td>0.0</td>\n      <td>41.0</td>\n      <td>88</td>\n      <td>720</td>\n    </tr>\n    <tr>\n      <th>201</th>\n      <td>1000435</td>\n      <td>2023-06-23</td>\n      <td>2</td>\n      <td>Wendys Jr Fries</td>\n      <td>1.0</td>\n      <td>28.0</td>\n      <td>9.0</td>\n      <td>3</td>\n      <td>210</td>\n    </tr>\n    <tr>\n      <th>202</th>\n      <td>1000436</td>\n      <td>2023-06-23</td>\n      <td>2</td>\n      <td>Ranch</td>\n      <td>1.0</td>\n      <td>1.0</td>\n      <td>23.0</td>\n      <td>1</td>\n      <td>210</td>\n    </tr>\n    <tr>\n      <th>203</th>\n      <td>1000437</td>\n      <td>2023-06-23</td>\n      <td>3</td>\n      <td>Rice</td>\n      <td>1.0</td>\n      <td>45.0</td>\n      <td>1.0</td>\n      <td>4</td>\n      <td>206</td>\n    </tr>\n    <tr>\n      <th>204</th>\n      <td>1000438</td>\n      <td>2023-06-23</td>\n      <td>3</td>\n      <td>Spicy Garlic</td>\n      <td>1.0</td>\n      <td>3.0</td>\n      <td>6.0</td>\n      <td>1</td>\n      <td>70</td>\n    </tr>\n    <tr>\n      <th>205</th>\n      <td>1000439</td>\n      <td>2023-06-23</td>\n      <td>3</td>\n      <td>Fruit Snacks</td>\n      <td>1.0</td>\n      <td>17.0</td>\n      <td>0.0</td>\n      <td>1</td>\n      <td>70</td>\n    </tr>\n    <tr>\n      <th>206</th>\n      <td>1000440</td>\n      <td>2023-06-23</td>\n      <td>3</td>\n      <td>Protein Powder</td>\n      <td>2.0</td>\n      <td>3.0</td>\n      <td>2.0</td>\n      <td>24</td>\n      <td>120</td>\n    </tr>\n  </tbody>\n</table>\n</div>"
     },
     "execution_count": 10,
     "metadata": {},
     "output_type": "execute_result"
    }
   ],
   "source": [
    "# Sort entries by date\n",
    "today = updated_foods[updated_foods['date']==date]\n",
    "today"
   ]
  },
  {
   "cell_type": "markdown",
   "metadata": {
    "ExecuteTime": {
     "end_time": "2023-05-31T03:51:45.336772Z",
     "start_time": "2023-05-31T03:51:45.332933Z"
    }
   },
   "source": [
    "### Macro Calculations\n",
    "These calculations assist in assessing the required macro nutrients for the day and possible adjustments\n",
    "that need to made if carbs or fats have exceeded or come up short of their targets."
   ],
   "outputs": [
    {
     "data": {
      "text/plain": "       food_id       date  meal_number       food_name  servings  carbs  fats   \nindex                                                                           \n211    1000213 2023-05-30            1           Ramen       1.0   54.0  14.0  \\\n212    1000214 2023-05-30            1  Protein Powder       2.0    3.0   2.0   \n213    1000215 2023-05-30            2        Pop Tart       1.0   74.0   9.0   \n214    1000216 2023-05-30            2            Eggs       4.0    0.0   5.0   \n215    1000217 2023-05-30            3            Rice       2.0   45.0   1.0   \n216    1000218 2023-05-30            3  Protein Powder       2.0    3.0   2.0   \n217    1000219 2023-05-30            3    Spicy Garlic       1.0    3.0   6.0   \n218    1000220 2023-05-30            3    Fruit Snacks       1.0   17.0   0.0   \n219    1000221 2023-05-30            4  Protein Powder       2.0    3.0   2.0   \n220    1000222 2023-05-30            4     Steak Ques.       1.0   42.0  27.0   \n\n       protein  calories  \nindex                     \n211          8       370  \n212         24       120  \n213          3       390  \n214          6        70  \n215          4       206  \n216         24       120  \n217          1        70  \n218          1        70  \n219         24       120  \n220         26       520  ",
      "text/html": "<div>\n<style scoped>\n    .dataframe tbody tr th:only-of-type {\n        vertical-align: middle;\n    }\n\n    .dataframe tbody tr th {\n        vertical-align: top;\n    }\n\n    .dataframe thead th {\n        text-align: right;\n    }\n</style>\n<table border=\"1\" class=\"dataframe\">\n  <thead>\n    <tr style=\"text-align: right;\">\n      <th></th>\n      <th>food_id</th>\n      <th>date</th>\n      <th>meal_number</th>\n      <th>food_name</th>\n      <th>servings</th>\n      <th>carbs</th>\n      <th>fats</th>\n      <th>protein</th>\n      <th>calories</th>\n    </tr>\n    <tr>\n      <th>index</th>\n      <th></th>\n      <th></th>\n      <th></th>\n      <th></th>\n      <th></th>\n      <th></th>\n      <th></th>\n      <th></th>\n      <th></th>\n    </tr>\n  </thead>\n  <tbody>\n    <tr>\n      <th>211</th>\n      <td>1000213</td>\n      <td>2023-05-30</td>\n      <td>1</td>\n      <td>Ramen</td>\n      <td>1.0</td>\n      <td>54.0</td>\n      <td>14.0</td>\n      <td>8</td>\n      <td>370</td>\n    </tr>\n    <tr>\n      <th>212</th>\n      <td>1000214</td>\n      <td>2023-05-30</td>\n      <td>1</td>\n      <td>Protein Powder</td>\n      <td>2.0</td>\n      <td>3.0</td>\n      <td>2.0</td>\n      <td>24</td>\n      <td>120</td>\n    </tr>\n    <tr>\n      <th>213</th>\n      <td>1000215</td>\n      <td>2023-05-30</td>\n      <td>2</td>\n      <td>Pop Tart</td>\n      <td>1.0</td>\n      <td>74.0</td>\n      <td>9.0</td>\n      <td>3</td>\n      <td>390</td>\n    </tr>\n    <tr>\n      <th>214</th>\n      <td>1000216</td>\n      <td>2023-05-30</td>\n      <td>2</td>\n      <td>Eggs</td>\n      <td>4.0</td>\n      <td>0.0</td>\n      <td>5.0</td>\n      <td>6</td>\n      <td>70</td>\n    </tr>\n    <tr>\n      <th>215</th>\n      <td>1000217</td>\n      <td>2023-05-30</td>\n      <td>3</td>\n      <td>Rice</td>\n      <td>2.0</td>\n      <td>45.0</td>\n      <td>1.0</td>\n      <td>4</td>\n      <td>206</td>\n    </tr>\n    <tr>\n      <th>216</th>\n      <td>1000218</td>\n      <td>2023-05-30</td>\n      <td>3</td>\n      <td>Protein Powder</td>\n      <td>2.0</td>\n      <td>3.0</td>\n      <td>2.0</td>\n      <td>24</td>\n      <td>120</td>\n    </tr>\n    <tr>\n      <th>217</th>\n      <td>1000219</td>\n      <td>2023-05-30</td>\n      <td>3</td>\n      <td>Spicy Garlic</td>\n      <td>1.0</td>\n      <td>3.0</td>\n      <td>6.0</td>\n      <td>1</td>\n      <td>70</td>\n    </tr>\n    <tr>\n      <th>218</th>\n      <td>1000220</td>\n      <td>2023-05-30</td>\n      <td>3</td>\n      <td>Fruit Snacks</td>\n      <td>1.0</td>\n      <td>17.0</td>\n      <td>0.0</td>\n      <td>1</td>\n      <td>70</td>\n    </tr>\n    <tr>\n      <th>219</th>\n      <td>1000221</td>\n      <td>2023-05-30</td>\n      <td>4</td>\n      <td>Protein Powder</td>\n      <td>2.0</td>\n      <td>3.0</td>\n      <td>2.0</td>\n      <td>24</td>\n      <td>120</td>\n    </tr>\n    <tr>\n      <th>220</th>\n      <td>1000222</td>\n      <td>2023-05-30</td>\n      <td>4</td>\n      <td>Steak Ques.</td>\n      <td>1.0</td>\n      <td>42.0</td>\n      <td>27.0</td>\n      <td>26</td>\n      <td>520</td>\n    </tr>\n  </tbody>\n</table>\n</div>"
     },
     "execution_count": 6,
     "metadata": {},
     "output_type": "execute_result"
    }
   ],
   "execution_count": 6
  },
  {
   "cell_type": "code",
   "execution_count": 11,
   "metadata": {
    "ExecuteTime": {
     "end_time": "2023-06-24T05:06:56.142341Z",
     "start_time": "2023-06-24T05:06:56.139790Z"
    }
   },
   "outputs": [
    {
     "name": "stdout",
     "output_type": "stream",
     "text": [
      "Carbs: 175 | Goals: 525 425 325\n",
      "Fats: 112 | Goals: 100 75 50\n",
      "Protein: 204 | Goal: 200\n",
      "Calories: 2496\n"
     ]
    }
   ],
   "source": [
    "# Calculate macronutrient totals based on serving count\n",
    "total_carbs = int((today['carbs'] * today['servings']).sum())\n",
    "total_fats = int((today['fats'] * today['servings']).sum())\n",
    "total_protein = int((today['protein'] * today['servings']).sum())\n",
    "total_cals = int((today['calories'] * today['servings']).sum())\n",
    "\n",
    "print(f\"Carbs: {total_carbs} | Goals: 525 425 325\")\n",
    "print(f\"Fats: {total_fats} | Goals: 100 75 50\")\n",
    "print(f\"Protein: {total_protein} | Goal: 200\")\n",
    "print(f\"Calories: {total_cals}\")"
   ]
  },
  {
   "cell_type": "markdown",
   "source": [
    "### Convert the macro nutrients to their caloric measurement."
   ],
   "metadata": {
    "collapsed": false
   }
  },
  {
   "cell_type": "code",
   "execution_count": 12,
   "metadata": {
    "ExecuteTime": {
     "end_time": "2023-06-24T05:06:58.206065Z",
     "start_time": "2023-06-24T05:06:58.202965Z"
    }
   },
   "outputs": [
    {
     "name": "stdout",
     "output_type": "stream",
     "text": [
      "Calories From Carbs: 700\n",
      "Calories From Fats: 1008\n",
      "Non-Protein Calories: 1708 Goal: 1750\n",
      "Calorie Difference: 42\n",
      "Calories From Protein: 816\n"
     ]
    }
   ],
   "source": [
    "# Calculate the number of calories from each macro nutrient.\n",
    "carb_cals = total_carbs * 4\n",
    "fat_cals = total_fats * 9\n",
    "non_protein_cals = carb_cals + fat_cals\n",
    "large_goal_npc = (525*4)+(100*9)\n",
    "small_goal_npc = (425*4)+(75*9)\n",
    "rest_goal_npc = (325*4)+(50*9)\n",
    "goal = rest_goal_npc # large_goal_npc OR small_goal_npc OR rest_goal_npc\n",
    "cal_difference = abs(goal-non_protein_cals)\n",
    "protein_cals = total_protein * 4\n",
    "\n",
    "print(f\"Calories From Carbs: {carb_cals}\")\n",
    "print(f\"Calories From Fats: {fat_cals}\")\n",
    "print(f\"Non-Protein Calories: {non_protein_cals} Goal: {goal}\")\n",
    "print(f\"Calorie Difference: {cal_difference}\")\n",
    "print(f\"Calories From Protein: {protein_cals}\")"
   ]
  },
  {
   "cell_type": "markdown",
   "source": [
    "### Update SQL\n",
    "Now that we have updated our table, we will export the new dataset to SQL. As a precaution, I always\n",
    "back up the new dataset to CSV in the event that an unforeseen reset is required in the future."
   ],
   "metadata": {
    "collapsed": false
   }
  },
  {
   "cell_type": "code",
   "execution_count": 13,
   "outputs": [
    {
     "data": {
      "text/plain": "207"
     },
     "execution_count": 13,
     "metadata": {},
     "output_type": "execute_result"
    }
   ],
   "source": [
    "updated_foods.to_sql('june_2023', sql_connection, if_exists='replace')"
   ],
   "metadata": {
    "collapsed": false,
    "ExecuteTime": {
     "end_time": "2023-06-24T05:07:31.629263Z",
     "start_time": "2023-06-24T05:07:31.620431Z"
    }
   }
  },
  {
   "cell_type": "code",
   "execution_count": 14,
   "outputs": [],
   "source": [
    "updated_foods.to_csv(r'/Users/tukles/Library/CloudStorage/GoogleDrive-brent.artuch@gmail.com/My Drive/CSV/june_2023.csv')"
   ],
   "metadata": {
    "collapsed": false,
    "ExecuteTime": {
     "end_time": "2023-06-24T05:08:23.481011Z",
     "start_time": "2023-06-24T05:08:23.468207Z"
    }
   }
  },
  {
   "cell_type": "markdown",
   "source": [
    "## Step 5: Visualize the Data\n",
    "Portray the macro nutrient dispersion of calories as a pie chart."
   ],
   "metadata": {
    "collapsed": false
   }
  },
  {
   "cell_type": "code",
   "execution_count": 15,
   "metadata": {
    "ExecuteTime": {
     "end_time": "2023-06-24T05:08:25.012213Z",
     "start_time": "2023-06-24T05:08:24.935081Z"
    }
   },
   "outputs": [
    {
     "data": {
      "text/plain": "<Figure size 500x500 with 1 Axes>",
      "image/png": "[encoded data removed]"
     },
     "metadata": {},
     "output_type": "display_data"
    }
   ],
   "source": [
    "# Plot as a pie chart\n",
    "macro_series = pd.Series(\n",
    "    [carb_cals, fat_cals, protein_cals],\n",
    "    index=['Carbs', 'Fats', 'Protein'],\n",
    "    name=\"\"\n",
    ")\n",
    "\n",
    "macro_series.plot.pie(\n",
    "    colors=sns.color_palette('colorblind'),\n",
    "    autopct='%1.0f%%',\n",
    "    fontsize=17,\n",
    "    shadow=True,\n",
    "    explode=(0.04,0.04,0.04),\n",
    "    figsize=(5,5)\n",
    ");"
   ]
  },
  {
   "cell_type": "markdown",
   "source": [
    "##### Add a new `total_food_cals` column that is the product of the food entry servings by its `calories`."
   ],
   "metadata": {
    "collapsed": false
   }
  },
  {
   "cell_type": "code",
   "execution_count": 16,
   "metadata": {
    "ExecuteTime": {
     "end_time": "2023-06-24T05:08:27.080243Z",
     "start_time": "2023-06-24T05:08:27.077809Z"
    }
   },
   "outputs": [
    {
     "data": {
      "text/plain": "       food_id       date  meal_number             food_name  servings  carbs  \\\nindex                                                                           \n197    1000431 2023-06-23            1                 Ramen       1.0   54.0   \n198    1000432 2023-06-23            1        Protein Powder       2.0    3.0   \n199    1000433 2023-06-23            1             Chips 1oz       1.0   15.0   \n200    1000434 2023-06-23            2  10 Traditional Wings       1.0    0.0   \n201    1000435 2023-06-23            2       Wendys Jr Fries       1.0   28.0   \n202    1000436 2023-06-23            2                 Ranch       1.0    1.0   \n203    1000437 2023-06-23            3                  Rice       1.0   45.0   \n204    1000438 2023-06-23            3          Spicy Garlic       1.0    3.0   \n205    1000439 2023-06-23            3          Fruit Snacks       1.0   17.0   \n206    1000440 2023-06-23            3        Protein Powder       2.0    3.0   \n\n       fats  protein  calories  total_food_cals  \nindex                                            \n197    14.0        8       370            370.0  \n198     2.0       24       120            240.0  \n199    10.0        2       160            160.0  \n200    41.0       88       720            720.0  \n201     9.0        3       210            210.0  \n202    23.0        1       210            210.0  \n203     1.0        4       206            206.0  \n204     6.0        1        70             70.0  \n205     0.0        1        70             70.0  \n206     2.0       24       120            240.0  ",
      "text/html": "<div>\n<style scoped>\n    .dataframe tbody tr th:only-of-type {\n        vertical-align: middle;\n    }\n\n    .dataframe tbody tr th {\n        vertical-align: top;\n    }\n\n    .dataframe thead th {\n        text-align: right;\n    }\n</style>\n<table border=\"1\" class=\"dataframe\">\n  <thead>\n    <tr style=\"text-align: right;\">\n      <th></th>\n      <th>food_id</th>\n      <th>date</th>\n      <th>meal_number</th>\n      <th>food_name</th>\n      <th>servings</th>\n      <th>carbs</th>\n      <th>fats</th>\n      <th>protein</th>\n      <th>calories</th>\n      <th>total_food_cals</th>\n    </tr>\n    <tr>\n      <th>index</th>\n      <th></th>\n      <th></th>\n      <th></th>\n      <th></th>\n      <th></th>\n      <th></th>\n      <th></th>\n      <th></th>\n      <th></th>\n      <th></th>\n    </tr>\n  </thead>\n  <tbody>\n    <tr>\n      <th>197</th>\n      <td>1000431</td>\n      <td>2023-06-23</td>\n      <td>1</td>\n      <td>Ramen</td>\n      <td>1.0</td>\n      <td>54.0</td>\n      <td>14.0</td>\n      <td>8</td>\n      <td>370</td>\n      <td>370.0</td>\n    </tr>\n    <tr>\n      <th>198</th>\n      <td>1000432</td>\n      <td>2023-06-23</td>\n      <td>1</td>\n      <td>Protein Powder</td>\n      <td>2.0</td>\n      <td>3.0</td>\n      <td>2.0</td>\n      <td>24</td>\n      <td>120</td>\n      <td>240.0</td>\n    </tr>\n    <tr>\n      <th>199</th>\n      <td>1000433</td>\n      <td>2023-06-23</td>\n      <td>1</td>\n      <td>Chips 1oz</td>\n      <td>1.0</td>\n      <td>15.0</td>\n      <td>10.0</td>\n      <td>2</td>\n      <td>160</td>\n      <td>160.0</td>\n    </tr>\n    <tr>\n      <th>200</th>\n      <td>1000434</td>\n      <td>2023-06-23</td>\n      <td>2</td>\n      <td>10 Traditional Wings</td>\n      <td>1.0</td>\n      <td>0.0</td>\n      <td>41.0</td>\n      <td>88</td>\n      <td>720</td>\n      <td>720.0</td>\n    </tr>\n    <tr>\n      <th>201</th>\n      <td>1000435</td>\n      <td>2023-06-23</td>\n      <td>2</td>\n      <td>Wendys Jr Fries</td>\n      <td>1.0</td>\n      <td>28.0</td>\n      <td>9.0</td>\n      <td>3</td>\n      <td>210</td>\n      <td>210.0</td>\n    </tr>\n    <tr>\n      <th>202</th>\n      <td>1000436</td>\n      <td>2023-06-23</td>\n      <td>2</td>\n      <td>Ranch</td>\n      <td>1.0</td>\n      <td>1.0</td>\n      <td>23.0</td>\n      <td>1</td>\n      <td>210</td>\n      <td>210.0</td>\n    </tr>\n    <tr>\n      <th>203</th>\n      <td>1000437</td>\n      <td>2023-06-23</td>\n      <td>3</td>\n      <td>Rice</td>\n      <td>1.0</td>\n      <td>45.0</td>\n      <td>1.0</td>\n      <td>4</td>\n      <td>206</td>\n      <td>206.0</td>\n    </tr>\n    <tr>\n      <th>204</th>\n      <td>1000438</td>\n      <td>2023-06-23</td>\n      <td>3</td>\n      <td>Spicy Garlic</td>\n      <td>1.0</td>\n      <td>3.0</td>\n      <td>6.0</td>\n      <td>1</td>\n      <td>70</td>\n      <td>70.0</td>\n    </tr>\n    <tr>\n      <th>205</th>\n      <td>1000439</td>\n      <td>2023-06-23</td>\n      <td>3</td>\n      <td>Fruit Snacks</td>\n      <td>1.0</td>\n      <td>17.0</td>\n      <td>0.0</td>\n      <td>1</td>\n      <td>70</td>\n      <td>70.0</td>\n    </tr>\n    <tr>\n      <th>206</th>\n      <td>1000440</td>\n      <td>2023-06-23</td>\n      <td>3</td>\n      <td>Protein Powder</td>\n      <td>2.0</td>\n      <td>3.0</td>\n      <td>2.0</td>\n      <td>24</td>\n      <td>120</td>\n      <td>240.0</td>\n    </tr>\n  </tbody>\n</table>\n</div>"
     },
     "execution_count": 16,
     "metadata": {},
     "output_type": "execute_result"
    }
   ],
   "source": [
    "# Add a total calories column\n",
    "updated_foods['total_food_cals'] = updated_foods['servings'] * updated_foods['calories']\n",
    "\n",
    "# Sort entries by date\n",
    "today = updated_foods[updated_foods['date']==date]\n",
    "today"
   ]
  },
  {
   "cell_type": "markdown",
   "source": [
    "##### Group the entries by `meal_number` and aggregate the corresponding `total_food_cals` to get `cals_per_meal`"
   ],
   "metadata": {
    "collapsed": false
   }
  },
  {
   "cell_type": "code",
   "execution_count": 17,
   "metadata": {
    "ExecuteTime": {
     "end_time": "2023-06-24T05:08:28.739527Z",
     "start_time": "2023-06-24T05:08:28.735487Z"
    }
   },
   "outputs": [
    {
     "data": {
      "text/plain": "             total_food_cals\nmeal_number                 \n1                      770.0\n2                     1140.0\n3                      586.0",
      "text/html": "<div>\n<style scoped>\n    .dataframe tbody tr th:only-of-type {\n        vertical-align: middle;\n    }\n\n    .dataframe tbody tr th {\n        vertical-align: top;\n    }\n\n    .dataframe thead th {\n        text-align: right;\n    }\n</style>\n<table border=\"1\" class=\"dataframe\">\n  <thead>\n    <tr style=\"text-align: right;\">\n      <th></th>\n      <th>total_food_cals</th>\n    </tr>\n    <tr>\n      <th>meal_number</th>\n      <th></th>\n    </tr>\n  </thead>\n  <tbody>\n    <tr>\n      <th>1</th>\n      <td>770.0</td>\n    </tr>\n    <tr>\n      <th>2</th>\n      <td>1140.0</td>\n    </tr>\n    <tr>\n      <th>3</th>\n      <td>586.0</td>\n    </tr>\n  </tbody>\n</table>\n</div>"
     },
     "execution_count": 17,
     "metadata": {},
     "output_type": "execute_result"
    }
   ],
   "source": [
    "cals_per_meal = today.groupby(today['meal_number']).aggregate({'total_food_cals': 'sum'})\n",
    "cals_per_meal.reset_index()\n",
    "cals_per_meal"
   ]
  },
  {
   "cell_type": "markdown",
   "source": [
    "### Plot the calories per meal\n",
    "Ideally the line should be as level as possible over four meals."
   ],
   "metadata": {
    "collapsed": false
   }
  },
  {
   "cell_type": "code",
   "execution_count": 18,
   "metadata": {
    "ExecuteTime": {
     "end_time": "2023-06-24T05:08:30.791899Z",
     "start_time": "2023-06-24T05:08:30.725024Z"
    }
   },
   "outputs": [
    {
     "data": {
      "text/plain": "<Figure size 640x480 with 1 Axes>",
      "image/png": "[encoded data removed]"
     },
     "metadata": {},
     "output_type": "display_data"
    }
   ],
   "source": [
    "fig = sns.barplot(data=cals_per_meal, x=cals_per_meal.index,y='total_food_cals')\n",
    "fig.set(title=\"Calories Per Meal\", xlabel=\"Meal Number\", ylabel=\"Total Calories\");"
   ]
  },
  {
   "cell_type": "markdown",
   "metadata": {
    "ExecuteTime": {
     "end_time": "2023-05-31T03:52:16.139828Z",
     "start_time": "2023-05-31T03:52:16.017197Z"
    }
   },
   "source": [
    "## LOG:\n",
    "### 2023-05-15: Wine removed from diet\n",
    "### 2023-05-29: New Cal Goals 500 400 300"
   ],
   "outputs": [
    {
     "data": {
      "text/plain": "<Axes: title={'center': 'Calories Per Meal'}, xlabel='Meal Number', ylabel='Calorie Count'>"
     },
     "execution_count": 13,
     "metadata": {},
     "output_type": "execute_result"
    },
    {
     "data": {
      "text/plain": "<Figure size 600x400 with 1 Axes>",
      "image/png": "[encoded data removed]"
     },
     "metadata": {},
     "output_type": "display_data"
    }
   ],
   "execution_count": 13
  }
 ],
 "metadata": {
  "kernelspec": {
   "display_name": "Python 3 (ipykernel)",
   "language": "python",
   "name": "python3"
  },
  "language_info": {
   "codemirror_mode": {
    "name": "ipython",
    "version": 3
   },
   "file_extension": ".py",
   "mimetype": "text/x-python",
   "name": "python",
   "nbconvert_exporter": "python",
   "pygments_lexer": "ipython3",
   "version": "3.9.6"
  }
 },
 "nbformat": 4,
 "nbformat_minor": 1
}
