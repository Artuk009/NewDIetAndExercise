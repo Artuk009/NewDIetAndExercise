{
 "cells": [
  {
   "cell_type": "markdown",
   "metadata": {},
   "source": [
    "# Weight Details Editor"
   ]
  },
  {
   "cell_type": "code",
   "execution_count": 1,
   "metadata": {
    "ExecuteTime": {
     "end_time": "2023-05-25T19:56:08.105288Z",
     "start_time": "2023-05-25T19:56:08.095064Z"
    }
   },
   "outputs": [
    {
     "data": {
      "text/html": [
       "<div>\n",
       "<style scoped>\n",
       "    .dataframe tbody tr th:only-of-type {\n",
       "        vertical-align: middle;\n",
       "    }\n",
       "\n",
       "    .dataframe tbody tr th {\n",
       "        vertical-align: top;\n",
       "    }\n",
       "\n",
       "    .dataframe thead th {\n",
       "        text-align: right;\n",
       "    }\n",
       "</style>\n",
       "<table border=\"1\" class=\"dataframe\">\n",
       "  <thead>\n",
       "    <tr style=\"text-align: right;\">\n",
       "      <th></th>\n",
       "      <th>date_time</th>\n",
       "      <th>body_weight</th>\n",
       "      <th>bodyfat_percentage</th>\n",
       "      <th>muscle_mass</th>\n",
       "      <th>fat_mass</th>\n",
       "      <th>workout_type</th>\n",
       "    </tr>\n",
       "    <tr>\n",
       "      <th>entry_id</th>\n",
       "      <th></th>\n",
       "      <th></th>\n",
       "      <th></th>\n",
       "      <th></th>\n",
       "      <th></th>\n",
       "      <th></th>\n",
       "    </tr>\n",
       "  </thead>\n",
       "  <tbody>\n",
       "    <tr>\n",
       "      <th>1000025</th>\n",
       "      <td>2023-05-19 15:18:42</td>\n",
       "      <td>193.6</td>\n",
       "      <td>25.4</td>\n",
       "      <td>78.7</td>\n",
       "      <td>49.2</td>\n",
       "      <td>LEGS</td>\n",
       "    </tr>\n",
       "    <tr>\n",
       "      <th>1000026</th>\n",
       "      <td>2023-05-20 15:21:21</td>\n",
       "      <td>192.0</td>\n",
       "      <td>25.1</td>\n",
       "      <td>78.4</td>\n",
       "      <td>48.2</td>\n",
       "      <td>REST</td>\n",
       "    </tr>\n",
       "    <tr>\n",
       "      <th>1000027</th>\n",
       "      <td>2023-05-21 16:09:44</td>\n",
       "      <td>193.2</td>\n",
       "      <td>25.9</td>\n",
       "      <td>77.8</td>\n",
       "      <td>50.0</td>\n",
       "      <td>BACK</td>\n",
       "    </tr>\n",
       "    <tr>\n",
       "      <th>1000028</th>\n",
       "      <td>2023-05-23 15:49:10</td>\n",
       "      <td>189.8</td>\n",
       "      <td>24.5</td>\n",
       "      <td>78.1</td>\n",
       "      <td>46.5</td>\n",
       "      <td>REST</td>\n",
       "    </tr>\n",
       "    <tr>\n",
       "      <th>1000029</th>\n",
       "      <td>2023-05-24 14:57:23</td>\n",
       "      <td>190.2</td>\n",
       "      <td>23.1</td>\n",
       "      <td>80.1</td>\n",
       "      <td>43.9</td>\n",
       "      <td>REST</td>\n",
       "    </tr>\n",
       "  </tbody>\n",
       "</table>\n",
       "</div>"
      ],
      "text/plain": [
       "                    date_time body_weight bodyfat_percentage muscle_mass   \n",
       "entry_id                                                                   \n",
       "1000025   2023-05-19 15:18:42       193.6               25.4        78.7  \\\n",
       "1000026   2023-05-20 15:21:21       192.0               25.1        78.4   \n",
       "1000027   2023-05-21 16:09:44       193.2               25.9        77.8   \n",
       "1000028   2023-05-23 15:49:10       189.8               24.5        78.1   \n",
       "1000029   2023-05-24 14:57:23       190.2               23.1        80.1   \n",
       "\n",
       "         fat_mass workout_type  \n",
       "entry_id                        \n",
       "1000025      49.2         LEGS  \n",
       "1000026      48.2         REST  \n",
       "1000027      50.0         BACK  \n",
       "1000028      46.5         REST  \n",
       "1000029      43.9         REST  "
      ]
     },
     "execution_count": 1,
     "metadata": {},
     "output_type": "execute_result"
    }
   ],
   "source": [
    "import sqlite3\n",
    "import pandas as pd\n",
    "import matplotlib.pyplot as plt\n",
    "import numpy as np\n",
    "\n",
    "# Establish SQL connection.\n",
    "con = sqlite3.connect('diet.sqlite')\n",
    "\n",
    "# Import desired table and set the index to id.\n",
    "current_details = pd.read_sql('SELECT * FROM weight_details_2023', con)\n",
    "current_details.set_index('entry_id', inplace=True)\n",
    "current_details.tail()"
   ]
  },
  {
   "cell_type": "markdown",
   "metadata": {},
   "source": [
    "## Create New Entry"
   ]
  },
  {
   "cell_type": "code",
   "execution_count": 2,
   "metadata": {
    "ExecuteTime": {
     "end_time": "2023-05-25T20:00:57.021569Z",
     "start_time": "2023-05-25T20:00:31.817978Z"
    }
   },
   "outputs": [
    {
     "data": {
      "text/plain": [
       "[Timestamp('2023-05-25 16:00:57'), 189.6, 25.2, 77.2, 47.7, 'REST']"
      ]
     },
     "execution_count": 2,
     "metadata": {},
     "output_type": "execute_result"
    }
   ],
   "source": [
    "# Create a new entry. [date_time, body_weight, bodyfat_percentage, muscle_mass, fat_mass, workout_type]\n",
    "weight_entry = float(input(\"Enter Weight: \"))\n",
    "bf_entry = float(input(\"Enter Body Fat Percentage: \"))\n",
    "mm_entry = float(input(\"Enter Muscle Mass: \"))\n",
    "fm_entry = float(input(\"Enter Fat Mass: \"))\n",
    "wt_entry = input(\"Enter Workout Type: \")\n",
    "new_entry = [pd.to_datetime(\"today\").round(freq=\"S\"), weight_entry, bf_entry, mm_entry, fm_entry, wt_entry]\n",
    "new_entry"
   ]
  },
  {
   "cell_type": "markdown",
   "metadata": {},
   "source": [
    "## Data Manipulation"
   ]
  },
  {
   "cell_type": "code",
   "execution_count": 3,
   "metadata": {
    "ExecuteTime": {
     "end_time": "2023-05-25T20:01:23.197107Z",
     "start_time": "2023-05-25T20:01:23.193746Z"
    }
   },
   "outputs": [
    {
     "data": {
      "text/html": [
       "<div>\n",
       "<style scoped>\n",
       "    .dataframe tbody tr th:only-of-type {\n",
       "        vertical-align: middle;\n",
       "    }\n",
       "\n",
       "    .dataframe tbody tr th {\n",
       "        vertical-align: top;\n",
       "    }\n",
       "\n",
       "    .dataframe thead th {\n",
       "        text-align: right;\n",
       "    }\n",
       "</style>\n",
       "<table border=\"1\" class=\"dataframe\">\n",
       "  <thead>\n",
       "    <tr style=\"text-align: right;\">\n",
       "      <th></th>\n",
       "      <th>date_time</th>\n",
       "      <th>body_weight</th>\n",
       "      <th>bodyfat_percentage</th>\n",
       "      <th>muscle_mass</th>\n",
       "      <th>fat_mass</th>\n",
       "      <th>workout_type</th>\n",
       "    </tr>\n",
       "    <tr>\n",
       "      <th>entry_id</th>\n",
       "      <th></th>\n",
       "      <th></th>\n",
       "      <th></th>\n",
       "      <th></th>\n",
       "      <th></th>\n",
       "      <th></th>\n",
       "    </tr>\n",
       "  </thead>\n",
       "  <tbody>\n",
       "    <tr>\n",
       "      <th>1000026</th>\n",
       "      <td>2023-05-20 15:21:21</td>\n",
       "      <td>192.0</td>\n",
       "      <td>25.1</td>\n",
       "      <td>78.4</td>\n",
       "      <td>48.2</td>\n",
       "      <td>REST</td>\n",
       "    </tr>\n",
       "    <tr>\n",
       "      <th>1000027</th>\n",
       "      <td>2023-05-21 16:09:44</td>\n",
       "      <td>193.2</td>\n",
       "      <td>25.9</td>\n",
       "      <td>77.8</td>\n",
       "      <td>50.0</td>\n",
       "      <td>BACK</td>\n",
       "    </tr>\n",
       "    <tr>\n",
       "      <th>1000028</th>\n",
       "      <td>2023-05-23 15:49:10</td>\n",
       "      <td>189.8</td>\n",
       "      <td>24.5</td>\n",
       "      <td>78.1</td>\n",
       "      <td>46.5</td>\n",
       "      <td>REST</td>\n",
       "    </tr>\n",
       "    <tr>\n",
       "      <th>1000029</th>\n",
       "      <td>2023-05-24 14:57:23</td>\n",
       "      <td>190.2</td>\n",
       "      <td>23.1</td>\n",
       "      <td>80.1</td>\n",
       "      <td>43.9</td>\n",
       "      <td>REST</td>\n",
       "    </tr>\n",
       "    <tr>\n",
       "      <th>1000030</th>\n",
       "      <td>2023-05-25 16:00:57</td>\n",
       "      <td>189.6</td>\n",
       "      <td>25.2</td>\n",
       "      <td>77.2</td>\n",
       "      <td>47.7</td>\n",
       "      <td>REST</td>\n",
       "    </tr>\n",
       "  </tbody>\n",
       "</table>\n",
       "</div>"
      ],
      "text/plain": [
       "                   date_time body_weight bodyfat_percentage muscle_mass   \n",
       "entry_id                                                                  \n",
       "1000026  2023-05-20 15:21:21       192.0               25.1        78.4  \\\n",
       "1000027  2023-05-21 16:09:44       193.2               25.9        77.8   \n",
       "1000028  2023-05-23 15:49:10       189.8               24.5        78.1   \n",
       "1000029  2023-05-24 14:57:23       190.2               23.1        80.1   \n",
       "1000030  2023-05-25 16:00:57       189.6               25.2        77.2   \n",
       "\n",
       "         fat_mass workout_type  \n",
       "entry_id                        \n",
       "1000026      48.2         REST  \n",
       "1000027      50.0         BACK  \n",
       "1000028      46.5         REST  \n",
       "1000029      43.9         REST  \n",
       "1000030      47.7         REST  "
      ]
     },
     "execution_count": 3,
     "metadata": {},
     "output_type": "execute_result"
    }
   ],
   "source": [
    "# Insert new entry at index id.\n",
    "current_details.loc[len(current_details.index) + 1000001] = new_entry\n",
    "\n",
    "# Update data at position.\n",
    "# current_details.loc[1000019, 'date_time'] = '2023-05-13 21:49:00'\n",
    "\n",
    "# Drop operations\n",
    "# current_details.drop(index=current_details.index[-1], axis=0, inplace=True) # Remove last row\n",
    "\n",
    "# Change date format to timestamp\n",
    "for i, row in current_details.iterrows():\n",
    "    current_details['date_time'] = pd.to_datetime(current_details.date_time)\n",
    "\n",
    "# Update name of the DataFrame\n",
    "new_details = current_details\n",
    "new_details.tail()"
   ]
  },
  {
   "cell_type": "markdown",
   "metadata": {},
   "source": [
    "## Update SQL"
   ]
  },
  {
   "cell_type": "code",
   "execution_count": 4,
   "metadata": {
    "ExecuteTime": {
     "end_time": "2023-05-25T20:01:28.690804Z",
     "start_time": "2023-05-25T20:01:28.680186Z"
    }
   },
   "outputs": [
    {
     "data": {
      "text/plain": [
       "30"
      ]
     },
     "execution_count": 4,
     "metadata": {},
     "output_type": "execute_result"
    }
   ],
   "source": [
    "# Export updated table to sql with time stamp.\n",
    "new_details.to_sql('weight_details_2023', con, if_exists='replace')"
   ]
  },
  {
   "cell_type": "code",
   "execution_count": 32,
   "metadata": {
    "ExecuteTime": {
     "end_time": "2023-05-25T20:38:22.340026Z",
     "start_time": "2023-05-25T20:38:22.338070Z"
    }
   },
   "outputs": [
    {
     "name": "stderr",
     "output_type": "stream",
     "text": [
      "/var/folders/6l/g3r9cy7524bc08xq768fxvq40000gn/T/ipykernel_1361/1653684426.py:3: SettingWithCopyWarning: \n",
      "A value is trying to be set on a copy of a slice from a DataFrame.\n",
      "Try using .loc[row_indexer,col_indexer] = value instead\n",
      "\n",
      "See the caveats in the documentation: https://pandas.pydata.org/pandas-docs/stable/user_guide/indexing.html#returning-a-view-versus-a-copy\n",
      "  bfp_by_date['bodyfat_percentage'] = bfp_by_date['bodyfat_percentage'].astype(float)\n"
     ]
    },
    {
     "data": {
      "text/plain": [
       "date_time             datetime64[ns]\n",
       "bodyfat_percentage           float64\n",
       "dtype: object"
      ]
     },
     "execution_count": 32,
     "metadata": {},
     "output_type": "execute_result"
    }
   ],
   "source": [
    "# Get body fat info\n",
    "bfp_by_date = new_details[['date_time', 'bodyfat_percentage']]\n",
    "bfp_by_date['bodyfat_percentage'] = bfp_by_date['bodyfat_percentage'].astype(float)\n",
    "bfp_by_date.dtypes"
   ]
  },
  {
   "cell_type": "code",
   "execution_count": 64,
   "metadata": {
    "ExecuteTime": {
     "end_time": "2023-05-25T21:14:42.286995Z",
     "start_time": "2023-05-25T21:14:42.143575Z"
    }
   },
   "outputs": [
    {
     "data": {
      "image/png": "[encoded data removed]",
      "text/plain": [
       "<Figure size 640x480 with 1 Axes>"
      ]
     },
     "metadata": {},
     "output_type": "display_data"
    }
   ],
   "source": [
    "# Plot the data\n",
    "import matplotlib.pyplot as plt\n",
    "import numpy as np\n",
    "\n",
    "bfp_by_date.plot(\n",
    "    kind='line',\n",
    "    title=\"Body Fat Trend\",\n",
    "    x='date_time',\n",
    "    xlabel=\"Date\",\n",
    "    y='bodyfat_percentage',\n",
    "    ylabel=\"Body Fat Percentage\",\n",
    "    legend=False,\n",
    "    color=\"r\"\n",
    ")\n",
    "\n",
    "plt.show()"
   ]
  },
  {
   "cell_type": "markdown",
   "metadata": {},
   "source": [
    "## LOG:\n",
    "### 2023-05-15: Wine removed from diet will determine effectiveness 14 days from log date."
   ]
  }
 ],
 "metadata": {
  "kernelspec": {
   "display_name": "Python 3 (ipykernel)",
   "language": "python",
   "name": "python3"
  },
  "language_info": {
   "codemirror_mode": {
    "name": "ipython",
    "version": 3
   },
   "file_extension": ".py",
   "mimetype": "text/x-python",
   "name": "python",
   "nbconvert_exporter": "python",
   "pygments_lexer": "ipython3",
   "version": "3.9.6"
  }
 },
 "nbformat": 4,
 "nbformat_minor": 1
}
